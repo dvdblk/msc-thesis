{
 "cells": [
  {
   "cell_type": "code",
   "execution_count": 20,
   "metadata": {},
   "outputs": [],
   "source": [
    "import numpy as np\n",
    "import os\n",
    "import pandas as pd\n",
    "import matplotlib.pyplot as plt\n",
    "import seaborn as sns\n",
    "\n",
    "def load_evaluations(base_dir=\"evals\"):\n",
    "    evaluations = {}\n",
    "    for model in os.listdir(base_dir):\n",
    "        model_path = os.path.join(base_dir, model)\n",
    "        if os.path.isdir(model_path):\n",
    "            evaluations[model] = {}\n",
    "            for file in os.listdir(model_path):\n",
    "                if file.endswith('_evaluation.npy'):\n",
    "                    xai_method = file.split('_')[0]\n",
    "                    file_path = os.path.join(model_path, file)\n",
    "                    evaluations[model][xai_method] = np.load(file_path)\n",
    "    return evaluations\n",
    "\n",
    "# Load all evaluations\n",
    "all_evaluations = load_evaluations()\n",
    "\n",
    "# Compute averages and standard deviations\n",
    "def compute_stats(eval_array):\n",
    "    return np.mean(eval_array, axis=0), np.std(eval_array, axis=0)\n",
    "\n",
    "stats = {model: {xai: compute_stats(eval_array)\n",
    "                 for xai, eval_array in model_evals.items()}\n",
    "         for model, model_evals in all_evaluations.items()}\n",
    "\n",
    "# Create tables as suggested earlier\n",
    "# ... (code to create pandas DataFrames for the tables)\n",
    "\n",
    "# Visualizations\n",
    "# ... (code for heatmaps, bar plots, etc.)"
   ]
  },
  {
   "cell_type": "code",
   "execution_count": 24,
   "metadata": {},
   "outputs": [
    {
     "data": {
      "text/plain": [
       "array([-5.15775336e-03,  1.68169830e-02,  3.07953940e-03, -3.43920686e-03,\n",
       "       -6.48843311e-03, -2.15635798e-03, -2.33829211e-04, -4.23689466e-03,\n",
       "       -2.88428888e-02, -8.40752572e-03, -2.57606711e-03, -2.54758876e-02,\n",
       "        1.28352679e-02,  2.07981151e-02,  6.09344363e-01, -2.38244403e-02,\n",
       "       -3.38214170e-03])"
      ]
     },
     "execution_count": 24,
     "metadata": {},
     "output_type": "execute_result"
    }
   ],
   "source": [
    "all_evaluations[\"scibert\"][\"attnlrp\"][7:][0, :, 0]"
   ]
  },
  {
   "cell_type": "code",
   "execution_count": null,
   "metadata": {},
   "outputs": [],
   "source": []
  }
 ],
 "metadata": {
  "kernelspec": {
   "display_name": "venv_lrp",
   "language": "python",
   "name": "python3"
  },
  "language_info": {
   "codemirror_mode": {
    "name": "ipython",
    "version": 3
   },
   "file_extension": ".py",
   "mimetype": "text/x-python",
   "name": "python",
   "nbconvert_exporter": "python",
   "pygments_lexer": "ipython3",
   "version": "3.12.3"
  }
 },
 "nbformat": 4,
 "nbformat_minor": 2
}
