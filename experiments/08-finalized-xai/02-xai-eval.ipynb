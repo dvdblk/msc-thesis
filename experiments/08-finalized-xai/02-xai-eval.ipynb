{
 "cells": [
  {
   "cell_type": "code",
   "execution_count": 91,
   "metadata": {},
   "outputs": [],
   "source": [
    "import numpy as np\n",
    "import os\n",
    "import pandas as pd\n",
    "import matplotlib.pyplot as plt\n",
    "import seaborn as sns\n",
    "\n",
    "def load_evaluations(base_dir=\"evals\"):\n",
    "    evaluations = {}\n",
    "    for model in os.listdir(base_dir):\n",
    "        model_path = os.path.join(base_dir, model)\n",
    "        if os.path.isdir(model_path):\n",
    "            evaluations[model] = {}\n",
    "            for file in os.listdir(model_path):\n",
    "                if file.endswith('_evaluation.npy'):\n",
    "                    xai_method = file.split('_')[0]\n",
    "                    file_path = os.path.join(model_path, file)\n",
    "                    evaluations[model][xai_method] = np.load(file_path)\n",
    "    return evaluations\n",
    "\n",
    "# Load all evaluations\n",
    "all_evaluations = load_evaluations()\n",
    "\n",
    "# Compute averages and standard deviations\n",
    "def compute_stats(eval_array):\n",
    "    return np.mean(eval_array, axis=0), np.std(eval_array, axis=0)\n",
    "\n",
    "stats = {model: {xai: compute_stats(eval_array)\n",
    "                 for xai, eval_array in model_evals.items()}\n",
    "         for model, model_evals in all_evaluations.items()}\n",
    "\n",
    "# Create tables as suggested earlier\n",
    "# ... (code to create pandas DataFrames for the tables)\n",
    "\n",
    "# Visualizations\n",
    "# ... (code for heatmaps, bar plots, etc.)"
   ]
  },
  {
   "cell_type": "code",
   "execution_count": 100,
   "metadata": {},
   "outputs": [
    {
     "data": {
      "text/plain": [
       "array([[[-5.17497247e-04, -2.75085494e-02,  1.65611715e-01],\n",
       "        [-6.61310740e-04, -1.57911591e-02,  5.92347662e-02],\n",
       "        [-1.63039868e-03, -5.39106578e-02,  1.26877657e-01],\n",
       "        ...,\n",
       "        [-9.11259616e-04, -4.04553488e-03,  1.09594218e-01],\n",
       "        [ 1.71331479e-03, -1.60302203e-02,  1.44260746e-01],\n",
       "        [-7.89176207e-03, -5.85657405e-03, -1.25743977e-01]],\n",
       "\n",
       "       [[ 1.32402265e-02,  3.88212688e-02,  9.92081975e-02],\n",
       "        [-2.91739497e-03,  3.79507616e-03,  1.25756870e-02],\n",
       "        [ 2.72252291e-01, -1.41619295e-01,  2.12234125e-01],\n",
       "        ...,\n",
       "        [ 8.27364996e-03, -1.00795096e-02,  8.18195932e-02],\n",
       "        [-2.22803769e-03, -2.19531707e-03, -1.87859028e-02],\n",
       "        [ 1.72087329e-03, -1.35288411e-03, -7.34358019e-02]],\n",
       "\n",
       "       [[-1.05526822e-03, -3.97718288e-02,  6.42270351e-02],\n",
       "        [ 6.49397913e-03, -4.46628556e-02,  2.12471994e-01],\n",
       "        [ 2.61562946e-03, -3.27241048e-02,  6.16131441e-02],\n",
       "        ...,\n",
       "        [-1.20847579e-03, -1.43496273e-02,  1.79238237e-02],\n",
       "        [ 5.76987164e-04, -5.81026077e-02,  6.75877521e-02],\n",
       "        [-3.95442592e-03, -3.42225563e-03,  3.62210605e-02]],\n",
       "\n",
       "       ...,\n",
       "\n",
       "       [[-1.68865523e-03, -1.50282513e-02,  1.62405220e-01],\n",
       "        [ 5.86597264e-01, -1.57557473e-01,  6.40098748e-02],\n",
       "        [ 4.27950639e-03, -4.18090671e-02,  9.11655793e-02],\n",
       "        ...,\n",
       "        [ 2.14654729e-02, -4.36680019e-03, -2.29236466e-03],\n",
       "        [ 4.96333232e-03, -1.53471706e-02,  1.18321284e-01],\n",
       "        [ 1.23778911e-04,  2.57211505e-03,  6.68312467e-02]],\n",
       "\n",
       "       [[ 4.67230420e-04, -6.45044148e-02,  2.22342342e-01],\n",
       "        [ 2.92468676e-03, -2.41925810e-02,  2.23783784e-01],\n",
       "        [-5.83692454e-05, -6.59857094e-02, -2.16576577e-01],\n",
       "        ...,\n",
       "        [-4.79454175e-04, -2.96710785e-02, -7.67567568e-02],\n",
       "        [-2.33629253e-04, -4.46697250e-02,  1.07027027e-01],\n",
       "        [-2.77419966e-02, -9.04246815e-04,  1.29369369e-01]],\n",
       "\n",
       "       [[-5.36408741e-03, -2.09944863e-02,  3.63685200e-02],\n",
       "        [ 3.02984496e-03, -1.03841871e-02,  3.57085300e-02],\n",
       "        [ 5.04489848e-03, -2.54624826e-03,  3.78880319e-02],\n",
       "        ...,\n",
       "        [ 1.82119071e-01,  9.74086896e-02,  7.15634209e-02],\n",
       "        [ 6.58935215e-03,  1.07504218e-03,  1.32220559e-01],\n",
       "        [ 3.19805369e-03,  1.14988023e-03, -1.57630780e-02]]])"
      ]
     },
     "execution_count": 100,
     "metadata": {},
     "output_type": "execute_result"
    }
   ],
   "source": [
    "all_evaluations[\"scibert\"][\"integrated-gradient\"]"
   ]
  },
  {
   "cell_type": "code",
   "execution_count": 99,
   "metadata": {},
   "outputs": [],
   "source": [
    "# Verify no score is NaN\n",
    "def has_nan(arr):\n",
    "    return np.isnan(arr).any()\n",
    "\n",
    "for model in all_evaluations:\n",
    "    for xai_method in all_evaluations[model]:\n",
    "        if has_nan(all_evaluations[model][xai_method]):\n",
    "            print(f\"Model {model} with XAI method {xai_method} has NaNs\")"
   ]
  },
  {
   "cell_type": "code",
   "execution_count": null,
   "metadata": {},
   "outputs": [],
   "source": []
  }
 ],
 "metadata": {
  "kernelspec": {
   "display_name": "venv_lrp",
   "language": "python",
   "name": "python3"
  },
  "language_info": {
   "codemirror_mode": {
    "name": "ipython",
    "version": 3
   },
   "file_extension": ".py",
   "mimetype": "text/x-python",
   "name": "python",
   "nbconvert_exporter": "python",
   "pygments_lexer": "ipython3",
   "version": "3.12.3"
  }
 },
 "nbformat": 4,
 "nbformat_minor": 2
}
