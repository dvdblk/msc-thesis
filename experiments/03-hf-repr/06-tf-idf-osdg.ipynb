{
 "cells": [
  {
   "cell_type": "markdown",
   "metadata": {},
   "source": [
    "# TF-IDF"
   ]
  },
  {
   "cell_type": "code",
   "execution_count": 1,
   "metadata": {},
   "outputs": [],
   "source": [
    "%run ../ipynb_util.py"
   ]
  },
  {
   "cell_type": "code",
   "execution_count": 2,
   "metadata": {},
   "outputs": [],
   "source": [
    "import pandas as pd"
   ]
  },
  {
   "cell_type": "code",
   "execution_count": 3,
   "metadata": {},
   "outputs": [
    {
     "name": "stdout",
     "output_type": "stream",
     "text": [
      "<class 'pandas.core.frame.DataFrame'>\n",
      "RangeIndex: 26069 entries, 0 to 26068\n",
      "Data columns (total 3 columns):\n",
      " #   Column          Non-Null Count  Dtype \n",
      "---  ------          --------------  ----- \n",
      " 0   abstract        26069 non-null  object\n",
      " 1   sdg             26069 non-null  int64 \n",
      " 2   sdg_desc_short  26069 non-null  object\n",
      "dtypes: int64(1), object(2)\n",
      "memory usage: 611.1+ KB\n"
     ]
    },
    {
     "data": {
      "text/html": [
       "<div>\n",
       "<style scoped>\n",
       "    .dataframe tbody tr th:only-of-type {\n",
       "        vertical-align: middle;\n",
       "    }\n",
       "\n",
       "    .dataframe tbody tr th {\n",
       "        vertical-align: top;\n",
       "    }\n",
       "\n",
       "    .dataframe thead th {\n",
       "        text-align: right;\n",
       "    }\n",
       "</style>\n",
       "<table border=\"1\" class=\"dataframe\">\n",
       "  <thead>\n",
       "    <tr style=\"text-align: right;\">\n",
       "      <th></th>\n",
       "      <th>abstract</th>\n",
       "      <th>sdg</th>\n",
       "      <th>sdg_desc_short</th>\n",
       "    </tr>\n",
       "  </thead>\n",
       "  <tbody>\n",
       "    <tr>\n",
       "      <th>0</th>\n",
       "      <td>On June 11st, the Plenary of Autonomous Parlia...</td>\n",
       "      <td>16</td>\n",
       "      <td>Peace, Justice and Strong Institutions</td>\n",
       "    </tr>\n",
       "    <tr>\n",
       "      <th>1</th>\n",
       "      <td>Differences within countries can be greater th...</td>\n",
       "      <td>5</td>\n",
       "      <td>Gender Equality</td>\n",
       "    </tr>\n",
       "    <tr>\n",
       "      <th>2</th>\n",
       "      <td>The success of the IGVGD programme and the RMP...</td>\n",
       "      <td>1</td>\n",
       "      <td>No Poverty</td>\n",
       "    </tr>\n",
       "    <tr>\n",
       "      <th>3</th>\n",
       "      <td>Even though the strategy is to buy low' and se...</td>\n",
       "      <td>2</td>\n",
       "      <td>Zero Hunger</td>\n",
       "    </tr>\n",
       "    <tr>\n",
       "      <th>4</th>\n",
       "      <td>A salient feature of SAICM, from its negotiati...</td>\n",
       "      <td>12</td>\n",
       "      <td>Responsible Consumption and Production</td>\n",
       "    </tr>\n",
       "  </tbody>\n",
       "</table>\n",
       "</div>"
      ],
      "text/plain": [
       "                                            abstract  sdg  \\\n",
       "0  On June 11st, the Plenary of Autonomous Parlia...   16   \n",
       "1  Differences within countries can be greater th...    5   \n",
       "2  The success of the IGVGD programme and the RMP...    1   \n",
       "3  Even though the strategy is to buy low' and se...    2   \n",
       "4  A salient feature of SAICM, from its negotiati...   12   \n",
       "\n",
       "                           sdg_desc_short  \n",
       "0  Peace, Justice and Strong Institutions  \n",
       "1                         Gender Equality  \n",
       "2                              No Poverty  \n",
       "3                             Zero Hunger  \n",
       "4  Responsible Consumption and Production  "
      ]
     },
     "execution_count": 3,
     "metadata": {},
     "output_type": "execute_result"
    }
   ],
   "source": [
    "# load OSDG data\n",
    "OSDG_DATA_PATH = DATA_DIR_PATH / \"osdg.csv\"\n",
    "osdg_data = pd.read_csv(OSDG_DATA_PATH)\n",
    "\n",
    "osdg_data.info()\n",
    "osdg_data.head(5)"
   ]
  },
  {
   "cell_type": "code",
   "execution_count": 4,
   "metadata": {},
   "outputs": [
    {
     "name": "stdout",
     "output_type": "stream",
     "text": [
      "(26069, 46236)\n"
     ]
    },
    {
     "data": {
      "text/plain": [
       "46236"
      ]
     },
     "execution_count": 4,
     "metadata": {},
     "output_type": "execute_result"
    }
   ],
   "source": [
    "from sklearn.feature_extraction.text import TfidfVectorizer\n",
    "\n",
    "vectorizer = TfidfVectorizer()\n",
    "X = vectorizer.fit_transform(osdg_data[\"abstract\"])\n",
    "\n",
    "print(X.shape)\n",
    "len(vectorizer.get_feature_names_out())"
   ]
  },
  {
   "cell_type": "code",
   "execution_count": 5,
   "metadata": {},
   "outputs": [],
   "source": [
    "y = vectorizer.transform([osdg_data[\"abstract\"][0]])"
   ]
  },
  {
   "cell_type": "code",
   "execution_count": 6,
   "metadata": {},
   "outputs": [],
   "source": [
    "import numpy as np\n",
    "# Create a mask based on TF-IDF scores\n",
    "mask = y > 0.5"
   ]
  },
  {
   "cell_type": "code",
   "execution_count": 7,
   "metadata": {},
   "outputs": [
    {
     "data": {
      "text/plain": [
       "(1, 46236)"
      ]
     },
     "execution_count": 7,
     "metadata": {},
     "output_type": "execute_result"
    }
   ],
   "source": [
    "mask.shape"
   ]
  },
  {
   "cell_type": "code",
   "execution_count": 8,
   "metadata": {},
   "outputs": [],
   "source": [
    "#input_string = \"Is this about clean energy?\"\n",
    "input_string = \"Behavioural economics, experimentalism and the marketization of development Using market-based pro-poor development policy in the global South as an example, this paper engages with the rise of behaviourism and experimentalism as a challenge to the neoclassical orthodoxy and the more recent transformation into an influential policy script. After charting the rise of behavioural economics and discussing the key conceptual building blocks of the emerging behavioural mainstream in economics, the paper turns to the marketization of anti-poverty policy in the global South. Based on an analysis of policy documents, project reports and academic interventions, it is argued that the behavioural approach to poverty shifts the focus from the market to the market subject and engages in often thinly veiled attempts at behavioural engineering. This is achieved with the combined work of behavioural economic knowledge and socio-technical market devices.\"\n",
    "tfidf_vector = vectorizer.transform([input_string])\n",
    "\n",
    "dense_vector = tfidf_vector.todense()\n",
    "feature_names = vectorizer.get_feature_names_out()\n",
    "tfidf_scores = np.array(dense_vector).flatten()\n"
   ]
  },
  {
   "cell_type": "code",
   "execution_count": 9,
   "metadata": {},
   "outputs": [],
   "source": [
    "# Tokenize the input string\n",
    "tokens = input_string.split()\n",
    "\n",
    "# Initialize a list to store TF-IDF scores for each token in the input string\n",
    "token_scores = []\n",
    "\n",
    "# Iterate over tokens in the input string\n",
    "for token in tokens:\n",
    "    # Check if the token is in the feature names\n",
    "    if token in feature_names:\n",
    "        # Get the index of the token in the feature names\n",
    "        index = feature_names.tolist().index(token)\n",
    "        # Get the TF-IDF score for the token\n",
    "        score = dense_vector[0, index]\n",
    "    else:\n",
    "        # If the token is not in the feature names, assign a score of 0\n",
    "        score = 0.0\n",
    "    token_scores.append(score)\n",
    "\n",
    "# Define a threshold for filtering\n",
    "threshold = 0.4\n",
    "\n",
    "# Create a mask based on the threshold\n",
    "mask = np.array(token_scores) >= threshold"
   ]
  },
  {
   "cell_type": "code",
   "execution_count": 10,
   "metadata": {},
   "outputs": [
    {
     "name": "stdout",
     "output_type": "stream",
     "text": [
      "[False False False False False False False False False False False False\n",
      " False False False False False False False False False False False False\n",
      " False False False False False False False False False False False False\n",
      " False False False False False False False False False False False False\n",
      " False False False False  True False False False False False False False\n",
      " False False False False  True False False False False False False False\n",
      " False False False False False False False False False False False False\n",
      " False False False False False False False False False False False False\n",
      " False False  True False False False False False False False False False\n",
      " False False False False False False False False False False False False\n",
      "  True False False False False False False False False False  True False\n",
      " False False False False False]\n"
     ]
    }
   ],
   "source": [
    "print(mask)"
   ]
  },
  {
   "cell_type": "code",
   "execution_count": null,
   "metadata": {},
   "outputs": [],
   "source": []
  }
 ],
 "metadata": {
  "kernelspec": {
   "display_name": "venv",
   "language": "python",
   "name": "python3"
  },
  "language_info": {
   "codemirror_mode": {
    "name": "ipython",
    "version": 3
   },
   "file_extension": ".py",
   "mimetype": "text/x-python",
   "name": "python",
   "nbconvert_exporter": "python",
   "pygments_lexer": "ipython3",
   "version": "3.10.12"
  }
 },
 "nbformat": 4,
 "nbformat_minor": 2
}
