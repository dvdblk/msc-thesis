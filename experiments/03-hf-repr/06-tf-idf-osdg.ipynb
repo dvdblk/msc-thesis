{
 "cells": [
  {
   "cell_type": "markdown",
   "metadata": {},
   "source": [
    "# TF-IDF"
   ]
  },
  {
   "cell_type": "code",
   "execution_count": 1,
   "metadata": {},
   "outputs": [],
   "source": [
    "%run ../ipynb_util.py"
   ]
  },
  {
   "cell_type": "code",
   "execution_count": 2,
   "metadata": {},
   "outputs": [],
   "source": [
    "import pandas as pd"
   ]
  },
  {
   "cell_type": "code",
   "execution_count": 3,
   "metadata": {},
   "outputs": [
    {
     "name": "stdout",
     "output_type": "stream",
     "text": [
      "<class 'pandas.core.frame.DataFrame'>\n",
      "RangeIndex: 26069 entries, 0 to 26068\n",
      "Data columns (total 3 columns):\n",
      " #   Column          Non-Null Count  Dtype \n",
      "---  ------          --------------  ----- \n",
      " 0   abstract        26069 non-null  object\n",
      " 1   sdg             26069 non-null  int64 \n",
      " 2   sdg_desc_short  26069 non-null  object\n",
      "dtypes: int64(1), object(2)\n",
      "memory usage: 611.1+ KB\n"
     ]
    },
    {
     "data": {
      "text/html": [
       "<div>\n",
       "<style scoped>\n",
       "    .dataframe tbody tr th:only-of-type {\n",
       "        vertical-align: middle;\n",
       "    }\n",
       "\n",
       "    .dataframe tbody tr th {\n",
       "        vertical-align: top;\n",
       "    }\n",
       "\n",
       "    .dataframe thead th {\n",
       "        text-align: right;\n",
       "    }\n",
       "</style>\n",
       "<table border=\"1\" class=\"dataframe\">\n",
       "  <thead>\n",
       "    <tr style=\"text-align: right;\">\n",
       "      <th></th>\n",
       "      <th>abstract</th>\n",
       "      <th>sdg</th>\n",
       "      <th>sdg_desc_short</th>\n",
       "    </tr>\n",
       "  </thead>\n",
       "  <tbody>\n",
       "    <tr>\n",
       "      <th>0</th>\n",
       "      <td>On June 11st, the Plenary of Autonomous Parlia...</td>\n",
       "      <td>16</td>\n",
       "      <td>Peace, Justice and Strong Institutions</td>\n",
       "    </tr>\n",
       "    <tr>\n",
       "      <th>1</th>\n",
       "      <td>Differences within countries can be greater th...</td>\n",
       "      <td>5</td>\n",
       "      <td>Gender Equality</td>\n",
       "    </tr>\n",
       "    <tr>\n",
       "      <th>2</th>\n",
       "      <td>The success of the IGVGD programme and the RMP...</td>\n",
       "      <td>1</td>\n",
       "      <td>No Poverty</td>\n",
       "    </tr>\n",
       "    <tr>\n",
       "      <th>3</th>\n",
       "      <td>Even though the strategy is to buy low' and se...</td>\n",
       "      <td>2</td>\n",
       "      <td>Zero Hunger</td>\n",
       "    </tr>\n",
       "    <tr>\n",
       "      <th>4</th>\n",
       "      <td>A salient feature of SAICM, from its negotiati...</td>\n",
       "      <td>12</td>\n",
       "      <td>Responsible Consumption and Production</td>\n",
       "    </tr>\n",
       "  </tbody>\n",
       "</table>\n",
       "</div>"
      ],
      "text/plain": [
       "                                            abstract  sdg  \\\n",
       "0  On June 11st, the Plenary of Autonomous Parlia...   16   \n",
       "1  Differences within countries can be greater th...    5   \n",
       "2  The success of the IGVGD programme and the RMP...    1   \n",
       "3  Even though the strategy is to buy low' and se...    2   \n",
       "4  A salient feature of SAICM, from its negotiati...   12   \n",
       "\n",
       "                           sdg_desc_short  \n",
       "0  Peace, Justice and Strong Institutions  \n",
       "1                         Gender Equality  \n",
       "2                              No Poverty  \n",
       "3                             Zero Hunger  \n",
       "4  Responsible Consumption and Production  "
      ]
     },
     "execution_count": 3,
     "metadata": {},
     "output_type": "execute_result"
    }
   ],
   "source": [
    "# load OSDG data\n",
    "OSDG_DATA_PATH = DATA_DIR_PATH / \"osdg.csv\"\n",
    "osdg_data = pd.read_csv(OSDG_DATA_PATH)\n",
    "\n",
    "osdg_data.info()\n",
    "osdg_data.head(5)"
   ]
  },
  {
   "cell_type": "code",
   "execution_count": 6,
   "metadata": {},
   "outputs": [
    {
     "name": "stdout",
     "output_type": "stream",
     "text": [
      "(26069, 46236)\n"
     ]
    },
    {
     "data": {
      "text/plain": [
       "46236"
      ]
     },
     "execution_count": 6,
     "metadata": {},
     "output_type": "execute_result"
    }
   ],
   "source": [
    "from sklearn.feature_extraction.text import TfidfVectorizer\n",
    "\n",
    "vectorizer = TfidfVectorizer()\n",
    "X = vectorizer.fit_transform(osdg_data[\"abstract\"])\n",
    "\n",
    "print(X.shape)\n",
    "len(vectorizer.get_feature_names_out())"
   ]
  },
  {
   "cell_type": "code",
   "execution_count": 12,
   "metadata": {},
   "outputs": [],
   "source": [
    "y = vectorizer.transform([osdg_data[\"abstract\"][0]])"
   ]
  },
  {
   "cell_type": "code",
   "execution_count": 16,
   "metadata": {},
   "outputs": [],
   "source": [
    "import numpy as np\n",
    "# Create a mask based on TF-IDF scores\n",
    "mask = y > 0.5"
   ]
  },
  {
   "cell_type": "code",
   "execution_count": 17,
   "metadata": {},
   "outputs": [
    {
     "data": {
      "text/plain": [
       "(1, 46236)"
      ]
     },
     "execution_count": 17,
     "metadata": {},
     "output_type": "execute_result"
    }
   ],
   "source": [
    "mask.shape"
   ]
  },
  {
   "cell_type": "code",
   "execution_count": null,
   "metadata": {},
   "outputs": [],
   "source": []
  }
 ],
 "metadata": {
  "kernelspec": {
   "display_name": "venv",
   "language": "python",
   "name": "python3"
  },
  "language_info": {
   "codemirror_mode": {
    "name": "ipython",
    "version": 3
   },
   "file_extension": ".py",
   "mimetype": "text/x-python",
   "name": "python",
   "nbconvert_exporter": "python",
   "pygments_lexer": "ipython3",
   "version": "3.10.12"
  }
 },
 "nbformat": 4,
 "nbformat_minor": 2
}
