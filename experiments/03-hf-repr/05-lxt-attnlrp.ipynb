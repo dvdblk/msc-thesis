{
 "cells": [
  {
   "cell_type": "code",
   "execution_count": 1,
   "metadata": {},
   "outputs": [],
   "source": [
    "%run ../ipynb_util_tars.py"
   ]
  },
  {
   "cell_type": "code",
   "execution_count": 2,
   "metadata": {},
   "outputs": [
    {
     "data": {
      "application/vnd.jupyter.widget-view+json": {
       "model_id": "792b20122c1646c9ab596258c0b0fc2b",
       "version_major": 2,
       "version_minor": 0
      },
      "text/plain": [
       "config.json:   0%|          | 0.00/608 [00:00<?, ?B/s]"
      ]
     },
     "metadata": {},
     "output_type": "display_data"
    },
    {
     "data": {
      "application/vnd.jupyter.widget-view+json": {
       "model_id": "3830a1e6f63e40319e3a1bb61a9fd586",
       "version_major": 2,
       "version_minor": 0
      },
      "text/plain": [
       "model.safetensors:   0%|          | 0.00/2.20G [00:00<?, ?B/s]"
      ]
     },
     "metadata": {},
     "output_type": "display_data"
    },
    {
     "data": {
      "application/vnd.jupyter.widget-view+json": {
       "model_id": "9011c94417114048b0b04dbfc59adb7a",
       "version_major": 2,
       "version_minor": 0
      },
      "text/plain": [
       "generation_config.json:   0%|          | 0.00/124 [00:00<?, ?B/s]"
      ]
     },
     "metadata": {},
     "output_type": "display_data"
    },
    {
     "data": {
      "application/vnd.jupyter.widget-view+json": {
       "model_id": "3a4bbed058b04cf2b13339e8503b0cee",
       "version_major": 2,
       "version_minor": 0
      },
      "text/plain": [
       "tokenizer_config.json:   0%|          | 0.00/1.29k [00:00<?, ?B/s]"
      ]
     },
     "metadata": {},
     "output_type": "display_data"
    },
    {
     "data": {
      "application/vnd.jupyter.widget-view+json": {
       "model_id": "9ddc117959d74a3cadc09938b68ff4c6",
       "version_major": 2,
       "version_minor": 0
      },
      "text/plain": [
       "tokenizer.model:   0%|          | 0.00/500k [00:00<?, ?B/s]"
      ]
     },
     "metadata": {},
     "output_type": "display_data"
    },
    {
     "data": {
      "application/vnd.jupyter.widget-view+json": {
       "model_id": "f3d730ea392145dd857047aa2e7e4ee2",
       "version_major": 2,
       "version_minor": 0
      },
      "text/plain": [
       "tokenizer.json:   0%|          | 0.00/1.84M [00:00<?, ?B/s]"
      ]
     },
     "metadata": {},
     "output_type": "display_data"
    },
    {
     "data": {
      "application/vnd.jupyter.widget-view+json": {
       "model_id": "1736b905c1d74ae7a1e2870c008c9438",
       "version_major": 2,
       "version_minor": 0
      },
      "text/plain": [
       "special_tokens_map.json:   0%|          | 0.00/551 [00:00<?, ?B/s]"
      ]
     },
     "metadata": {},
     "output_type": "display_data"
    }
   ],
   "source": [
    "import torch\n",
    "from transformers import AutoTokenizer\n",
    "from lxt.models.llama import LlamaForCausalLM, attnlrp\n",
    "from lxt.utils import pdf_heatmap, clean_tokens\n",
    "\n",
    "model = LlamaForCausalLM.from_pretrained(\"TinyLlama/TinyLlama-1.1B-Chat-v1.0\", torch_dtype=torch.bfloat16, device_map=\"cuda\")\n",
    "tokenizer = AutoTokenizer.from_pretrained(\"TinyLlama/TinyLlama-1.1B-Chat-v1.0\")\n",
    "\n",
    "# apply AttnLRP rules\n",
    "attnlrp.register(model)\n",
    "\n",
    "prompt = \"\"\"\\\n",
    "Context: Mount Everest attracts many climbers, including highly experienced mountaineers. There are two main climbing routes, one approaching the summit from the southeast in Nepal (known as the standard route) and the other from the north in Tibet. While not posing substantial technical climbing challenges on the standard route, Everest presents dangers such as altitude sickness, weather, and wind, as well as hazards from avalanches and the Khumbu Icefall. As of November 2022, 310 people have died on Everest. Over 200 bodies remain on the mountain and have not been removed due to the dangerous conditions. The first recorded efforts to reach Everest's summit were made by British mountaineers. As Nepal did not allow foreigners to enter the country at the time, the British made several attempts on the north ridge route from the Tibetan side. After the first reconnaissance expedition by the British in 1921 reached 7,000 m (22,970 ft) on the North Col, the 1922 expedition pushed the north ridge route up to 8,320 m (27,300 ft), marking the first time a human had climbed above 8,000 m (26,247 ft). The 1924 expedition resulted in one of the greatest mysteries on Everest to this day: George Mallory and Andrew Irvine made a final summit attempt on 8 June but never returned, sparking debate as to whether they were the first to reach the top. Tenzing Norgay and Edmund Hillary made the first documented ascent of Everest in 1953, using the southeast ridge route. Norgay had reached 8,595 m (28,199 ft) the previous year as a member of the 1952 Swiss expedition. The Chinese mountaineering team of Wang Fuzhou, Gonpo, and Qu Yinhua made the first reported ascent of the peak from the north ridge on 25 May 1960. \\\n",
    "Question: How high did they climb in 1922? According to the text, the 1922 expedition reached 8,\"\"\"\n",
    "\n",
    "input_ids = tokenizer(prompt, return_tensors=\"pt\", add_special_tokens=True).input_ids.to(model.device)\n",
    "input_embeds = model.get_input_embeddings()(input_ids)"
   ]
  },
  {
   "cell_type": "code",
   "execution_count": 3,
   "metadata": {},
   "outputs": [],
   "source": [
    "output_logits = model(inputs_embeds=input_embeds.requires_grad_(), use_cache=False).logits"
   ]
  },
  {
   "cell_type": "code",
   "execution_count": 4,
   "metadata": {},
   "outputs": [
    {
     "data": {
      "text/plain": [
       "torch.Size([1, 504, 32000])"
      ]
     },
     "execution_count": 4,
     "metadata": {},
     "output_type": "execute_result"
    }
   ],
   "source": [
    "output_logits.shape"
   ]
  },
  {
   "cell_type": "code",
   "execution_count": 5,
   "metadata": {},
   "outputs": [],
   "source": [
    "max_logits, max_indices = torch.max(output_logits[0, -1, :], dim=-1)\n",
    "\n",
    "max_logits.backward(max_logits)\n",
    "relevance = input_embeds.grad.float().sum(-1).cpu()[0]\n",
    "\n",
    "# normalize relevance between [-1, 1] for plotting\n",
    "relevance = relevance / relevance.abs().max()\n",
    "\n",
    "# remove '_' characters from token strings\n",
    "tokens = tokenizer.convert_ids_to_tokens(input_ids[0])\n",
    "tokens = clean_tokens(tokens)"
   ]
  },
  {
   "cell_type": "code",
   "execution_count": null,
   "metadata": {},
   "outputs": [],
   "source": []
  },
  {
   "cell_type": "code",
   "execution_count": 6,
   "metadata": {},
   "outputs": [
    {
     "data": {
      "text/plain": [
       "tensor([ 1.4142e-01,  4.9700e-03,  3.2170e-03,  3.7260e-03,  3.6056e-03,\n",
       "         4.6697e-03,  1.8035e-03,  1.2307e-03,  1.6535e-03,  2.9311e-03,\n",
       "         2.4982e-03, -1.1494e-03,  1.7481e-03,  1.9444e-03,  1.7738e-03,\n",
       "         1.9680e-03,  2.4556e-03,  2.2394e-03,  1.8183e-03,  1.9807e-03,\n",
       "         1.9668e-03,  1.9497e-03,  1.4409e-03,  2.9973e-03,  2.1020e-03,\n",
       "         2.2702e-03,  1.1746e-03,  4.6093e-04,  2.0909e-03,  1.4651e-03,\n",
       "         2.4700e-03,  1.1895e-03,  1.8469e-03,  1.2871e-03,  1.7337e-03,\n",
       "         1.6185e-03,  2.3092e-03,  1.8725e-03,  1.8802e-03,  1.2827e-03,\n",
       "         5.5377e-04,  1.2248e-03,  1.0094e-03,  1.2231e-03,  1.0380e-03,\n",
       "         1.6856e-03,  1.5208e-03,  1.2405e-03,  5.1707e-04,  1.2809e-03,\n",
       "         9.2748e-04,  1.2127e-03,  1.8236e-03,  1.8319e-03,  1.6120e-03,\n",
       "         3.2192e-03,  7.5262e-04,  1.2913e-03,  1.1210e-03,  1.2961e-03,\n",
       "         1.2042e-03,  1.8866e-03,  3.0032e-03,  2.1106e-03,  1.3845e-03,\n",
       "         1.3297e-03,  1.6040e-03,  1.0562e-03,  1.1300e-03,  1.5174e-03,\n",
       "         2.3288e-04,  4.2706e-03,  3.9331e-03,  2.1689e-03,  1.5667e-03,\n",
       "         2.5753e-03,  1.4267e-03,  1.4715e-03,  2.7564e-03,  2.3707e-03,\n",
       "         1.9993e-03,  1.4137e-03,  8.7538e-04,  1.2775e-03,  8.6824e-04,\n",
       "         1.6757e-03,  1.3154e-03,  1.4219e-03,  1.6998e-03,  1.1937e-03,\n",
       "         1.3277e-03,  1.2295e-03,  6.7915e-04,  1.2450e-03,  1.5378e-03,\n",
       "         9.0460e-04,  1.3260e-03,  1.6051e-03,  1.2624e-03,  1.5566e-03,\n",
       "         7.7295e-04,  2.2567e-03,  1.4422e-03,  1.3098e-03,  1.1307e-03,\n",
       "         8.1707e-04,  5.3821e-03,  2.3792e-03,  2.4819e-03,  2.1110e-03,\n",
       "         1.2824e-03,  1.2868e-03,  1.3409e-03, -9.3649e-04, -2.0556e-03,\n",
       "        -4.0364e-04,  4.9583e-04, -1.4506e-04,  6.9266e-04,  5.9417e-04,\n",
       "         2.3295e-03,  1.5838e-03,  1.0258e-03,  2.0804e-03,  2.9063e-03,\n",
       "         2.9485e-03,  4.1306e-03,  1.4166e-03,  2.4345e-04, -1.1404e-05,\n",
       "         1.1223e-04,  1.7782e-04,  1.6665e-03,  1.4157e-03,  2.1108e-03,\n",
       "         1.0905e-03,  2.9930e-03,  2.1538e-03,  1.4438e-03,  8.4452e-04,\n",
       "         6.1444e-04,  6.8472e-04,  9.8381e-04,  2.0172e-03,  1.3041e-03,\n",
       "         1.8697e-03,  1.0585e-03,  5.0188e-03,  1.9362e-03, -1.1763e-03,\n",
       "         2.4169e-03,  2.7971e-03,  2.1219e-03,  3.1831e-03,  4.2613e-03,\n",
       "         4.5166e-03,  1.2529e-03,  1.2602e-03,  2.0208e-03,  8.8119e-04,\n",
       "         1.6449e-03,  8.4349e-04,  1.8877e-03,  3.7293e-03,  2.6161e-03,\n",
       "         2.4596e-03,  1.6193e-03,  8.4101e-03,  1.4838e-03,  3.2171e-03,\n",
       "         1.4705e-03,  1.8175e-03,  1.4011e-03,  2.6847e-04,  2.4352e-03,\n",
       "         1.9148e-03,  1.8933e-03,  8.3133e-04,  1.4528e-03,  2.0798e-03,\n",
       "         2.3110e-03,  1.3041e-03,  1.5146e-03, -1.3588e-04,  1.6983e-03,\n",
       "         2.1332e-03,  1.4792e-03,  1.5061e-03,  2.7389e-03,  1.9440e-03,\n",
       "         1.6233e-03,  7.2702e-03,  3.5951e-03,  7.3422e-03,  4.0495e-03,\n",
       "         2.7023e-03,  1.3350e-03,  2.9846e-03,  1.9496e-03,  1.9704e-03,\n",
       "         6.2714e-04,  9.7747e-03,  7.7648e-03,  2.9602e-03,  2.4188e-03,\n",
       "         3.6790e-03,  3.4834e-03,  9.2790e-03,  3.6957e-03,  1.8768e-03,\n",
       "         3.0267e-03,  4.9202e-03,  1.5729e-03,  3.3258e-03,  4.4810e-03,\n",
       "         5.8102e-03,  4.9312e-03,  5.6552e-02,  4.3950e-02,  4.7772e-02,\n",
       "         6.4905e-02,  4.9150e-02,  2.8596e-02,  2.5227e-02,  1.9995e-02,\n",
       "         4.6855e-03, -6.7421e-04,  7.9363e-04,  6.7739e-03,  6.0513e-03,\n",
       "         6.5582e-03,  4.4800e-03,  5.1180e-03,  2.0291e-02,  5.8288e-03,\n",
       "         1.3582e-03,  6.2707e-03,  4.5024e-03,  7.9908e-03,  6.9004e-03,\n",
       "         4.3309e-03,  5.9802e-03,  7.1837e-03,  6.8927e-03,  8.3630e-03,\n",
       "         2.9043e-03,  1.2152e-02,  5.1340e-03,  1.0045e-02,  2.3330e-03,\n",
       "         4.6394e-03, -1.7496e-03,  2.3771e-02,  3.6324e-02,  9.3444e-02,\n",
       "         3.8008e-01,  3.2351e-01,  6.5459e-01,  3.8000e-02,  3.7248e-02,\n",
       "         2.7857e-02,  3.3271e-03,  1.2572e-03,  2.4912e-03,  4.5467e-03,\n",
       "         1.2516e-02,  1.8424e-03,  2.2165e-03,  4.4243e-03,  2.3395e-02,\n",
       "         3.5060e-03,  1.6383e-03,  1.2679e-03, -6.3617e-05,  1.2163e-03,\n",
       "         1.9901e-03,  2.4135e-03,  2.0251e-03,  1.8568e-03,  2.0351e-04,\n",
       "         7.8786e-03, -2.6570e-03, -9.2306e-03,  1.2922e-02,  7.2202e-02,\n",
       "         9.4140e-03,  4.5843e-03,  3.4014e-03,  2.0303e-05, -6.1252e-04,\n",
       "        -1.4597e-05,  6.4828e-04,  1.2318e-03,  8.1461e-04,  8.7072e-04,\n",
       "         1.9901e-04,  1.1811e-02,  8.8272e-04, -6.4359e-04, -2.0524e-03,\n",
       "        -1.8927e-03, -2.3929e-04, -6.1243e-04, -4.4141e-04,  1.6059e-03,\n",
       "         9.7201e-04,  3.6162e-04,  4.2198e-04,  3.4094e-04, -1.3985e-04,\n",
       "         5.2137e-04,  1.7393e-04,  1.6516e-04,  1.2961e-03,  1.4862e-03,\n",
       "         5.2846e-04,  4.9032e-04,  2.9467e-04, -4.3068e-04,  2.2419e-03,\n",
       "         2.1566e-04, -2.5761e-03,  1.0223e-03,  1.2733e-03,  1.1991e-03,\n",
       "         6.7073e-04,  9.9729e-04,  5.7015e-04, -1.3567e-05, -2.8352e-04,\n",
       "         6.5792e-04,  7.6352e-04,  2.5542e-03, -5.7542e-04, -9.1417e-03,\n",
       "        -2.9762e-02,  2.1840e-02,  1.1171e-03,  5.8930e-04,  1.4684e-04,\n",
       "         4.8756e-04,  5.3533e-04,  5.3773e-04,  7.5951e-04,  1.2421e-03,\n",
       "         1.3889e-03,  3.1314e-04, -5.0632e-04,  6.4649e-04,  4.7536e-04,\n",
       "         3.4689e-04,  1.3071e-03,  3.7270e-03,  6.2927e-04,  6.1611e-04,\n",
       "         2.4699e-03,  9.6721e-04,  1.7616e-03,  8.4964e-04,  1.0019e-03,\n",
       "         9.1658e-04,  6.4080e-04,  9.4416e-04,  9.8266e-04,  6.0311e-04,\n",
       "         3.0142e-05,  6.6105e-04,  7.4749e-04,  3.1955e-05,  1.2772e-03,\n",
       "         1.8579e-03,  2.1467e-03,  5.7363e-04,  3.0244e-04, -1.0584e-04,\n",
       "         7.8977e-04, -6.6405e-04, -3.2459e-04, -2.0560e-05, -3.5655e-04,\n",
       "        -1.8790e-03, -1.0654e-03,  9.0510e-04,  8.9072e-04,  8.6955e-04,\n",
       "         1.0676e-03,  8.1112e-04,  1.8061e-03,  1.3889e-03,  3.7569e-03,\n",
       "         1.1990e-03,  4.1946e-04,  4.1107e-04,  2.8033e-03,  1.4061e-02,\n",
       "         1.1532e-02,  2.7629e-02,  4.7981e-02,  4.2182e-02,  1.0045e-02,\n",
       "         5.5313e-03,  3.6893e-03,  2.3158e-03,  6.7767e-05,  1.3010e-03,\n",
       "         5.6217e-03,  2.1140e-03,  1.3652e-03,  9.3142e-04,  1.3756e-03,\n",
       "         4.9434e-03,  1.2147e-03,  1.0305e-03,  1.2322e-03,  7.1038e-04,\n",
       "         3.2740e-04,  3.1477e-04,  3.5311e-04,  2.6290e-04, -5.4482e-04,\n",
       "        -6.4423e-04,  6.2850e-04,  6.6089e-05, -2.5950e-04,  1.9539e-03,\n",
       "         1.7036e-03,  2.6986e-03,  2.5188e-03,  2.7287e-03,  2.0862e-03,\n",
       "         1.7311e-03,  1.1510e-03,  2.3615e-03,  1.7431e-03,  1.3226e-03,\n",
       "         8.9860e-04,  7.9527e-04,  8.8644e-04, -8.4108e-04,  1.6094e-03,\n",
       "         1.5392e-03, -1.3510e-03, -5.3959e-04,  1.1035e-05,  2.0332e-03,\n",
       "         7.4238e-04,  4.0598e-04,  7.7870e-04,  1.1865e-03,  6.7764e-04,\n",
       "         1.4280e-03,  1.9944e-03,  2.5139e-03,  2.8715e-03,  1.0563e-03,\n",
       "         6.5275e-04,  5.0222e-03,  1.5926e-03,  1.1517e-04,  1.4052e-03,\n",
       "         2.3649e-05,  1.7901e-03,  1.0931e-03, -8.0793e-04,  9.6457e-04,\n",
       "         1.5535e-03,  4.0256e-03, -2.8537e-04,  2.2040e-03,  2.4752e-03,\n",
       "         3.2970e-03,  1.5487e-03,  9.5278e-03,  1.3586e-02,  1.1517e-02,\n",
       "         4.7301e-02,  7.5293e-02,  1.5806e-02,  6.0726e-03,  6.5407e-03,\n",
       "         2.2146e-03,  6.5670e-03,  9.8549e-04, -1.2588e-04,  1.1053e-03,\n",
       "         3.2333e-03, -1.2941e-02,  3.6686e-02,  6.5662e-02,  1.0517e-02,\n",
       "         1.1024e-02,  3.3962e-02,  3.4927e-02,  2.2451e-02,  7.7526e-03,\n",
       "        -5.7637e-04,  1.1994e-02, -7.7467e-03, -2.4583e-02,  5.2824e-03,\n",
       "         2.5792e-01,  4.1139e-01,  9.5667e-01,  1.0000e+00])"
      ]
     },
     "execution_count": 6,
     "metadata": {},
     "output_type": "execute_result"
    }
   ],
   "source": [
    "relevance"
   ]
  },
  {
   "cell_type": "code",
   "execution_count": 8,
   "metadata": {},
   "outputs": [
    {
     "ename": "FileNotFoundError",
     "evalue": "[Errno 2] No such file or directory: 'xelatex'",
     "output_type": "error",
     "traceback": [
      "\u001b[0;31m---------------------------------------------------------------------------\u001b[0m",
      "\u001b[0;31mFileNotFoundError\u001b[0m                         Traceback (most recent call last)",
      "Cell \u001b[0;32mIn[8], line 1\u001b[0m\n\u001b[0;32m----> 1\u001b[0m \u001b[43mpdf_heatmap\u001b[49m\u001b[43m(\u001b[49m\u001b[43mtokens\u001b[49m\u001b[43m,\u001b[49m\u001b[43m \u001b[49m\u001b[43mrelevance\u001b[49m\u001b[43m,\u001b[49m\u001b[43m \u001b[49m\u001b[43mpath\u001b[49m\u001b[38;5;241;43m=\u001b[39;49m\u001b[38;5;124;43m'\u001b[39;49m\u001b[38;5;124;43mheatmap.pdf\u001b[39;49m\u001b[38;5;124;43m'\u001b[39;49m\u001b[43m,\u001b[49m\u001b[43m \u001b[49m\u001b[43mbackend\u001b[49m\u001b[38;5;241;43m=\u001b[39;49m\u001b[38;5;124;43m'\u001b[39;49m\u001b[38;5;124;43mxelatex\u001b[39;49m\u001b[38;5;124;43m'\u001b[39;49m\u001b[43m)\u001b[49m\n",
      "File \u001b[0;32m~/msc-thesis/venv/lib/python3.11/site-packages/lxt/utils.py:94\u001b[0m, in \u001b[0;36mpdf_heatmap\u001b[0;34m(words, relevances, cmap, path, delete_aux_files, backend)\u001b[0m\n\u001b[1;32m     91\u001b[0m \u001b[38;5;28;01massert\u001b[39;00m relevances\u001b[38;5;241m.\u001b[39mmin() \u001b[38;5;241m>\u001b[39m\u001b[38;5;241m=\u001b[39m \u001b[38;5;241m-\u001b[39m\u001b[38;5;241m1\u001b[39m \u001b[38;5;129;01mand\u001b[39;00m relevances\u001b[38;5;241m.\u001b[39mmax() \u001b[38;5;241m<\u001b[39m\u001b[38;5;241m=\u001b[39m \u001b[38;5;241m1\u001b[39m, \u001b[38;5;124m\"\u001b[39m\u001b[38;5;124mThe relevances must be normalized between -1 and 1.\u001b[39m\u001b[38;5;124m\"\u001b[39m\n\u001b[1;32m     93\u001b[0m latex_code \u001b[38;5;241m=\u001b[39m _generate_latex(words, relevances, cmap\u001b[38;5;241m=\u001b[39mcmap)\n\u001b[0;32m---> 94\u001b[0m \u001b[43m_compile_latex_to_pdf\u001b[49m\u001b[43m(\u001b[49m\u001b[43mlatex_code\u001b[49m\u001b[43m,\u001b[49m\u001b[43m \u001b[49m\u001b[43mpath\u001b[49m\u001b[38;5;241;43m=\u001b[39;49m\u001b[43mpath\u001b[49m\u001b[43m,\u001b[49m\u001b[43m \u001b[49m\u001b[43mdelete_aux_files\u001b[49m\u001b[38;5;241;43m=\u001b[39;49m\u001b[43mdelete_aux_files\u001b[49m\u001b[43m,\u001b[49m\u001b[43m \u001b[49m\u001b[43mbackend\u001b[49m\u001b[38;5;241;43m=\u001b[39;49m\u001b[43mbackend\u001b[49m\u001b[43m)\u001b[49m\n",
      "File \u001b[0;32m~/msc-thesis/venv/lib/python3.11/site-packages/lxt/utils.py:61\u001b[0m, in \u001b[0;36m_compile_latex_to_pdf\u001b[0;34m(latex_code, path, delete_aux_files, backend)\u001b[0m\n\u001b[1;32m     59\u001b[0m     subprocess\u001b[38;5;241m.\u001b[39mcall([\u001b[38;5;124m'\u001b[39m\u001b[38;5;124mpdflatex\u001b[39m\u001b[38;5;124m'\u001b[39m, \u001b[38;5;124m'\u001b[39m\u001b[38;5;124m--output-directory\u001b[39m\u001b[38;5;124m'\u001b[39m, path\u001b[38;5;241m.\u001b[39mparent, path\u001b[38;5;241m.\u001b[39mwith_suffix(\u001b[38;5;124m\"\u001b[39m\u001b[38;5;124m.tex\u001b[39m\u001b[38;5;124m\"\u001b[39m)])\n\u001b[1;32m     60\u001b[0m \u001b[38;5;28;01melif\u001b[39;00m backend \u001b[38;5;241m==\u001b[39m \u001b[38;5;124m'\u001b[39m\u001b[38;5;124mxelatex\u001b[39m\u001b[38;5;124m'\u001b[39m:\n\u001b[0;32m---> 61\u001b[0m     \u001b[43msubprocess\u001b[49m\u001b[38;5;241;43m.\u001b[39;49m\u001b[43mcall\u001b[49m\u001b[43m(\u001b[49m\u001b[43m[\u001b[49m\u001b[38;5;124;43m'\u001b[39;49m\u001b[38;5;124;43mxelatex\u001b[39;49m\u001b[38;5;124;43m'\u001b[39;49m\u001b[43m,\u001b[49m\u001b[43m \u001b[49m\u001b[38;5;124;43m'\u001b[39;49m\u001b[38;5;124;43m--output-directory\u001b[39;49m\u001b[38;5;124;43m'\u001b[39;49m\u001b[43m,\u001b[49m\u001b[43m \u001b[49m\u001b[43mpath\u001b[49m\u001b[38;5;241;43m.\u001b[39;49m\u001b[43mparent\u001b[49m\u001b[43m,\u001b[49m\u001b[43m \u001b[49m\u001b[43mpath\u001b[49m\u001b[38;5;241;43m.\u001b[39;49m\u001b[43mwith_suffix\u001b[49m\u001b[43m(\u001b[49m\u001b[38;5;124;43m\"\u001b[39;49m\u001b[38;5;124;43m.tex\u001b[39;49m\u001b[38;5;124;43m\"\u001b[39;49m\u001b[43m)\u001b[49m\u001b[43m]\u001b[49m\u001b[43m)\u001b[49m\n\u001b[1;32m     63\u001b[0m \u001b[38;5;28mprint\u001b[39m(\u001b[38;5;124m\"\u001b[39m\u001b[38;5;124mPDF file generated successfully.\u001b[39m\u001b[38;5;124m\"\u001b[39m)\n\u001b[1;32m     65\u001b[0m \u001b[38;5;28;01mif\u001b[39;00m delete_aux_files:\n",
      "File \u001b[0;32m~/miniconda3/envs/ml/lib/python3.11/subprocess.py:389\u001b[0m, in \u001b[0;36mcall\u001b[0;34m(timeout, *popenargs, **kwargs)\u001b[0m\n\u001b[1;32m    381\u001b[0m \u001b[38;5;28;01mdef\u001b[39;00m \u001b[38;5;21mcall\u001b[39m(\u001b[38;5;241m*\u001b[39mpopenargs, timeout\u001b[38;5;241m=\u001b[39m\u001b[38;5;28;01mNone\u001b[39;00m, \u001b[38;5;241m*\u001b[39m\u001b[38;5;241m*\u001b[39mkwargs):\n\u001b[1;32m    382\u001b[0m \u001b[38;5;250m    \u001b[39m\u001b[38;5;124;03m\"\"\"Run command with arguments.  Wait for command to complete or\u001b[39;00m\n\u001b[1;32m    383\u001b[0m \u001b[38;5;124;03m    timeout, then return the returncode attribute.\u001b[39;00m\n\u001b[1;32m    384\u001b[0m \n\u001b[0;32m   (...)\u001b[0m\n\u001b[1;32m    387\u001b[0m \u001b[38;5;124;03m    retcode = call([\"ls\", \"-l\"])\u001b[39;00m\n\u001b[1;32m    388\u001b[0m \u001b[38;5;124;03m    \"\"\"\u001b[39;00m\n\u001b[0;32m--> 389\u001b[0m     \u001b[38;5;28;01mwith\u001b[39;00m \u001b[43mPopen\u001b[49m\u001b[43m(\u001b[49m\u001b[38;5;241;43m*\u001b[39;49m\u001b[43mpopenargs\u001b[49m\u001b[43m,\u001b[49m\u001b[43m \u001b[49m\u001b[38;5;241;43m*\u001b[39;49m\u001b[38;5;241;43m*\u001b[39;49m\u001b[43mkwargs\u001b[49m\u001b[43m)\u001b[49m \u001b[38;5;28;01mas\u001b[39;00m p:\n\u001b[1;32m    390\u001b[0m         \u001b[38;5;28;01mtry\u001b[39;00m:\n\u001b[1;32m    391\u001b[0m             \u001b[38;5;28;01mreturn\u001b[39;00m p\u001b[38;5;241m.\u001b[39mwait(timeout\u001b[38;5;241m=\u001b[39mtimeout)\n",
      "File \u001b[0;32m~/miniconda3/envs/ml/lib/python3.11/subprocess.py:1026\u001b[0m, in \u001b[0;36mPopen.__init__\u001b[0;34m(self, args, bufsize, executable, stdin, stdout, stderr, preexec_fn, close_fds, shell, cwd, env, universal_newlines, startupinfo, creationflags, restore_signals, start_new_session, pass_fds, user, group, extra_groups, encoding, errors, text, umask, pipesize, process_group)\u001b[0m\n\u001b[1;32m   1022\u001b[0m         \u001b[38;5;28;01mif\u001b[39;00m \u001b[38;5;28mself\u001b[39m\u001b[38;5;241m.\u001b[39mtext_mode:\n\u001b[1;32m   1023\u001b[0m             \u001b[38;5;28mself\u001b[39m\u001b[38;5;241m.\u001b[39mstderr \u001b[38;5;241m=\u001b[39m io\u001b[38;5;241m.\u001b[39mTextIOWrapper(\u001b[38;5;28mself\u001b[39m\u001b[38;5;241m.\u001b[39mstderr,\n\u001b[1;32m   1024\u001b[0m                     encoding\u001b[38;5;241m=\u001b[39mencoding, errors\u001b[38;5;241m=\u001b[39merrors)\n\u001b[0;32m-> 1026\u001b[0m     \u001b[38;5;28;43mself\u001b[39;49m\u001b[38;5;241;43m.\u001b[39;49m\u001b[43m_execute_child\u001b[49m\u001b[43m(\u001b[49m\u001b[43margs\u001b[49m\u001b[43m,\u001b[49m\u001b[43m \u001b[49m\u001b[43mexecutable\u001b[49m\u001b[43m,\u001b[49m\u001b[43m \u001b[49m\u001b[43mpreexec_fn\u001b[49m\u001b[43m,\u001b[49m\u001b[43m \u001b[49m\u001b[43mclose_fds\u001b[49m\u001b[43m,\u001b[49m\n\u001b[1;32m   1027\u001b[0m \u001b[43m                        \u001b[49m\u001b[43mpass_fds\u001b[49m\u001b[43m,\u001b[49m\u001b[43m \u001b[49m\u001b[43mcwd\u001b[49m\u001b[43m,\u001b[49m\u001b[43m \u001b[49m\u001b[43menv\u001b[49m\u001b[43m,\u001b[49m\n\u001b[1;32m   1028\u001b[0m \u001b[43m                        \u001b[49m\u001b[43mstartupinfo\u001b[49m\u001b[43m,\u001b[49m\u001b[43m \u001b[49m\u001b[43mcreationflags\u001b[49m\u001b[43m,\u001b[49m\u001b[43m \u001b[49m\u001b[43mshell\u001b[49m\u001b[43m,\u001b[49m\n\u001b[1;32m   1029\u001b[0m \u001b[43m                        \u001b[49m\u001b[43mp2cread\u001b[49m\u001b[43m,\u001b[49m\u001b[43m \u001b[49m\u001b[43mp2cwrite\u001b[49m\u001b[43m,\u001b[49m\n\u001b[1;32m   1030\u001b[0m \u001b[43m                        \u001b[49m\u001b[43mc2pread\u001b[49m\u001b[43m,\u001b[49m\u001b[43m \u001b[49m\u001b[43mc2pwrite\u001b[49m\u001b[43m,\u001b[49m\n\u001b[1;32m   1031\u001b[0m \u001b[43m                        \u001b[49m\u001b[43merrread\u001b[49m\u001b[43m,\u001b[49m\u001b[43m \u001b[49m\u001b[43merrwrite\u001b[49m\u001b[43m,\u001b[49m\n\u001b[1;32m   1032\u001b[0m \u001b[43m                        \u001b[49m\u001b[43mrestore_signals\u001b[49m\u001b[43m,\u001b[49m\n\u001b[1;32m   1033\u001b[0m \u001b[43m                        \u001b[49m\u001b[43mgid\u001b[49m\u001b[43m,\u001b[49m\u001b[43m \u001b[49m\u001b[43mgids\u001b[49m\u001b[43m,\u001b[49m\u001b[43m \u001b[49m\u001b[43muid\u001b[49m\u001b[43m,\u001b[49m\u001b[43m \u001b[49m\u001b[43mumask\u001b[49m\u001b[43m,\u001b[49m\n\u001b[1;32m   1034\u001b[0m \u001b[43m                        \u001b[49m\u001b[43mstart_new_session\u001b[49m\u001b[43m,\u001b[49m\u001b[43m \u001b[49m\u001b[43mprocess_group\u001b[49m\u001b[43m)\u001b[49m\n\u001b[1;32m   1035\u001b[0m \u001b[38;5;28;01mexcept\u001b[39;00m:\n\u001b[1;32m   1036\u001b[0m     \u001b[38;5;66;03m# Cleanup if the child failed starting.\u001b[39;00m\n\u001b[1;32m   1037\u001b[0m     \u001b[38;5;28;01mfor\u001b[39;00m f \u001b[38;5;129;01min\u001b[39;00m \u001b[38;5;28mfilter\u001b[39m(\u001b[38;5;28;01mNone\u001b[39;00m, (\u001b[38;5;28mself\u001b[39m\u001b[38;5;241m.\u001b[39mstdin, \u001b[38;5;28mself\u001b[39m\u001b[38;5;241m.\u001b[39mstdout, \u001b[38;5;28mself\u001b[39m\u001b[38;5;241m.\u001b[39mstderr)):\n",
      "File \u001b[0;32m~/miniconda3/envs/ml/lib/python3.11/subprocess.py:1955\u001b[0m, in \u001b[0;36mPopen._execute_child\u001b[0;34m(self, args, executable, preexec_fn, close_fds, pass_fds, cwd, env, startupinfo, creationflags, shell, p2cread, p2cwrite, c2pread, c2pwrite, errread, errwrite, restore_signals, gid, gids, uid, umask, start_new_session, process_group)\u001b[0m\n\u001b[1;32m   1953\u001b[0m     err_msg \u001b[38;5;241m=\u001b[39m os\u001b[38;5;241m.\u001b[39mstrerror(errno_num)\n\u001b[1;32m   1954\u001b[0m \u001b[38;5;28;01mif\u001b[39;00m err_filename \u001b[38;5;129;01mis\u001b[39;00m \u001b[38;5;129;01mnot\u001b[39;00m \u001b[38;5;28;01mNone\u001b[39;00m:\n\u001b[0;32m-> 1955\u001b[0m     \u001b[38;5;28;01mraise\u001b[39;00m child_exception_type(errno_num, err_msg, err_filename)\n\u001b[1;32m   1956\u001b[0m \u001b[38;5;28;01melse\u001b[39;00m:\n\u001b[1;32m   1957\u001b[0m     \u001b[38;5;28;01mraise\u001b[39;00m child_exception_type(errno_num, err_msg)\n",
      "\u001b[0;31mFileNotFoundError\u001b[0m: [Errno 2] No such file or directory: 'xelatex'"
     ]
    }
   ],
   "source": [
    "pdf_heatmap(tokens, relevance, path='heatmap.pdf', backend='xelatex')"
   ]
  },
  {
   "cell_type": "code",
   "execution_count": null,
   "metadata": {},
   "outputs": [],
   "source": []
  }
 ],
 "metadata": {
  "kernelspec": {
   "display_name": "venv",
   "language": "python",
   "name": "python3"
  },
  "language_info": {
   "codemirror_mode": {
    "name": "ipython",
    "version": 3
   },
   "file_extension": ".py",
   "mimetype": "text/x-python",
   "name": "python",
   "nbconvert_exporter": "python",
   "pygments_lexer": "ipython3",
   "version": "3.11.9"
  }
 },
 "nbformat": 4,
 "nbformat_minor": 2
}
