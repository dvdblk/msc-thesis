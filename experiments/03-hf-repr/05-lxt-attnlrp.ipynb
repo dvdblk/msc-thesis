{
 "cells": [
  {
   "cell_type": "code",
   "execution_count": null,
   "metadata": {},
   "outputs": [],
   "source": [
    "%run ../ipynb_util_tars.py"
   ]
  },
  {
   "cell_type": "code",
   "execution_count": 1,
   "metadata": {},
   "outputs": [],
   "source": [
    "import torch\n",
    "from transformers import AutoTokenizer\n",
    "from lxt.models.llama import LlamaForCausalLM, attnlrp\n",
    "from lxt.utils import pdf_heatmap, clean_tokens\n",
    "\n",
    "model = LlamaForCausalLM.from_pretrained(\"TinyLlama/TinyLlama-1.1B-Chat-v1.0\", torch_dtype=torch.bfloat16, device_map=\"cuda\")\n",
    "tokenizer = AutoTokenizer.from_pretrained(\"TinyLlama/TinyLlama-1.1B-Chat-v1.0\")\n",
    "\n",
    "# apply AttnLRP rules\n",
    "attnlrp.register(model)\n",
    "\n",
    "prompt = \"\"\"\\\n",
    "Context: Mount Everest attracts many climbers, including highly experienced mountaineers. There are two main climbing routes, one approaching the summit from the southeast in Nepal (known as the standard route) and the other from the north in Tibet. While not posing substantial technical climbing challenges on the standard route, Everest presents dangers such as altitude sickness, weather, and wind, as well as hazards from avalanches and the Khumbu Icefall. As of November 2022, 310 people have died on Everest. Over 200 bodies remain on the mountain and have not been removed due to the dangerous conditions. The first recorded efforts to reach Everest's summit were made by British mountaineers. As Nepal did not allow foreigners to enter the country at the time, the British made several attempts on the north ridge route from the Tibetan side. After the first reconnaissance expedition by the British in 1921 reached 7,000 m (22,970 ft) on the North Col, the 1922 expedition pushed the north ridge route up to 8,320 m (27,300 ft), marking the first time a human had climbed above 8,000 m (26,247 ft). The 1924 expedition resulted in one of the greatest mysteries on Everest to this day: George Mallory and Andrew Irvine made a final summit attempt on 8 June but never returned, sparking debate as to whether they were the first to reach the top. Tenzing Norgay and Edmund Hillary made the first documented ascent of Everest in 1953, using the southeast ridge route. Norgay had reached 8,595 m (28,199 ft) the previous year as a member of the 1952 Swiss expedition. The Chinese mountaineering team of Wang Fuzhou, Gonpo, and Qu Yinhua made the first reported ascent of the peak from the north ridge on 25 May 1960. \\\n",
    "Question: How high did they climb in 1922? According to the text, the 1922 expedition reached 8,\"\"\"\n",
    "\n",
    "input_ids = tokenizer(prompt, return_tensors=\"pt\", add_special_tokens=True).input_ids.to(model.device)\n",
    "input_embeds = model.get_input_embeddings()(input_ids)"
   ]
  },
  {
   "cell_type": "code",
   "execution_count": 2,
   "metadata": {},
   "outputs": [],
   "source": [
    "output_logits = model(inputs_embeds=input_embeds.requires_grad_(), use_cache=False).logits"
   ]
  },
  {
   "cell_type": "code",
   "execution_count": 6,
   "metadata": {},
   "outputs": [
    {
     "data": {
      "text/plain": [
       "torch.Size([1, 504, 32000])"
      ]
     },
     "execution_count": 6,
     "metadata": {},
     "output_type": "execute_result"
    }
   ],
   "source": [
    "output_logits.shape"
   ]
  },
  {
   "cell_type": "code",
   "execution_count": 3,
   "metadata": {},
   "outputs": [],
   "source": [
    "max_logits, max_indices = torch.max(output_logits[0, -1, :], dim=-1)\n",
    "\n",
    "max_logits.backward(max_logits)\n",
    "relevance = input_embeds.grad.float().sum(-1).cpu()[0]\n",
    "\n",
    "# normalize relevance between [-1, 1] for plotting\n",
    "relevance = relevance / relevance.abs().max()\n",
    "\n",
    "# remove '_' characters from token strings\n",
    "tokens = tokenizer.convert_ids_to_tokens(input_ids[0])\n",
    "tokens = clean_tokens(tokens)"
   ]
  },
  {
   "cell_type": "code",
   "execution_count": null,
   "metadata": {},
   "outputs": [],
   "source": []
  },
  {
   "cell_type": "code",
   "execution_count": 4,
   "metadata": {},
   "outputs": [
    {
     "data": {
      "text/plain": [
       "tensor([ 1.3196e-01,  5.1883e-03,  3.0550e-03,  3.5725e-03,  3.4653e-03,\n",
       "         4.6311e-03,  1.7928e-03,  1.2944e-03,  1.6060e-03,  2.7856e-03,\n",
       "         2.4524e-03, -1.2477e-03,  1.6194e-03,  1.7904e-03,  1.7456e-03,\n",
       "         1.8251e-03,  2.4546e-03,  2.1118e-03,  1.2877e-03,  1.8194e-03,\n",
       "         1.8732e-03,  1.9507e-03,  1.3257e-03,  2.8442e-03,  1.9830e-03,\n",
       "         2.3725e-03,  1.3156e-03,  3.8082e-04,  2.0710e-03,  1.3968e-03,\n",
       "         2.2734e-03,  1.1085e-03,  1.6843e-03,  1.2335e-03,  1.6933e-03,\n",
       "         1.6841e-03,  2.0773e-03,  1.9222e-03,  1.8050e-03,  1.4322e-03,\n",
       "         5.8241e-04,  1.0884e-03,  9.0586e-04,  1.1562e-03,  9.9855e-04,\n",
       "         1.3892e-03,  1.3004e-03,  1.0053e-03,  4.3004e-04,  1.0687e-03,\n",
       "         9.2276e-04,  1.2031e-03,  1.7044e-03,  1.7856e-03,  1.4967e-03,\n",
       "         2.8682e-03,  8.0016e-04,  1.1782e-03,  1.0711e-03,  1.2500e-03,\n",
       "         1.2540e-03,  1.7711e-03,  2.7716e-03,  1.9745e-03,  1.4472e-03,\n",
       "         1.2429e-03,  1.3865e-03,  9.8715e-04,  1.1184e-03,  1.4828e-03,\n",
       "         3.9523e-04,  3.9753e-03,  3.7069e-03,  2.0380e-03,  1.5307e-03,\n",
       "         2.5536e-03,  1.3641e-03,  1.3381e-03,  2.7141e-03,  2.3708e-03,\n",
       "         1.9522e-03,  1.2729e-03,  1.0093e-03,  1.2460e-03,  6.7963e-04,\n",
       "         1.5322e-03,  1.2334e-03,  1.2253e-03,  1.5961e-03,  1.1512e-03,\n",
       "         1.2767e-03,  1.1986e-03,  6.2887e-04,  1.2078e-03,  1.4393e-03,\n",
       "         8.7478e-04,  1.1795e-03,  1.5054e-03,  1.1440e-03,  1.3927e-03,\n",
       "         7.3993e-04,  2.1067e-03,  1.3812e-03,  1.2276e-03,  1.0340e-03,\n",
       "         7.4188e-04,  4.7131e-03,  2.3666e-03,  2.3275e-03,  1.7984e-03,\n",
       "         1.2222e-03,  1.1941e-03,  1.3638e-03, -1.0190e-03, -2.0150e-03,\n",
       "         7.1378e-06,  5.7132e-04, -9.9128e-05,  6.8134e-04,  4.9069e-04,\n",
       "         2.1888e-03,  1.5408e-03,  8.1102e-04,  1.7958e-03,  2.8150e-03,\n",
       "         2.8290e-03,  4.2991e-03,  1.2684e-03,  2.4284e-04, -3.1066e-05,\n",
       "         1.3749e-04,  1.4980e-04,  1.2465e-03,  1.4693e-03,  1.8813e-03,\n",
       "         1.0644e-03,  2.9095e-03,  1.9628e-03,  1.3379e-03,  7.9066e-04,\n",
       "         5.7375e-04,  6.7967e-04,  1.0018e-03,  2.0094e-03,  1.2058e-03,\n",
       "         1.8679e-03,  9.8392e-04,  4.4448e-03,  1.8024e-03, -1.0718e-03,\n",
       "         2.3388e-03,  2.8838e-03,  2.1269e-03,  3.6011e-03,  4.0705e-03,\n",
       "         4.1795e-03,  1.0824e-03,  1.1422e-03,  1.7597e-03,  6.5653e-04,\n",
       "         1.5223e-03,  7.5363e-04,  1.7542e-03,  3.4148e-03,  2.3905e-03,\n",
       "         2.3023e-03,  1.4718e-03,  7.9688e-03,  1.4915e-03,  3.3078e-03,\n",
       "         1.2977e-03,  1.6930e-03,  1.2388e-03,  2.1671e-04,  2.2789e-03,\n",
       "         1.6676e-03,  1.7750e-03,  7.5551e-04,  1.3626e-03,  2.0928e-03,\n",
       "         2.2126e-03,  1.2155e-03,  1.4007e-03, -9.2794e-06,  1.6177e-03,\n",
       "         2.0043e-03,  1.3696e-03,  1.5603e-03,  2.6579e-03,  1.6949e-03,\n",
       "         1.5136e-03,  7.2498e-03,  3.4121e-03,  7.1452e-03,  3.8238e-03,\n",
       "         2.6745e-03,  1.1996e-03,  2.9667e-03,  1.8399e-03,  1.8326e-03,\n",
       "         4.4578e-04,  7.7797e-03,  7.2345e-03,  2.8456e-03,  2.2973e-03,\n",
       "         3.3135e-03,  3.3674e-03,  8.9016e-03,  3.6285e-03,  1.7273e-03,\n",
       "         3.0487e-03,  4.3694e-03,  1.5273e-03,  2.6460e-03,  3.3874e-03,\n",
       "         5.7628e-03,  5.3503e-03,  5.4755e-02,  4.1674e-02,  4.6832e-02,\n",
       "         6.4976e-02,  4.7298e-02,  2.7108e-02,  2.3364e-02,  1.8463e-02,\n",
       "         3.5867e-03, -8.5711e-04,  6.0012e-04,  6.4033e-03,  5.5780e-03,\n",
       "         6.2922e-03,  4.1352e-03,  5.0318e-03,  1.9738e-02,  5.1826e-03,\n",
       "         1.4574e-03,  5.3896e-03,  4.0757e-03,  6.2318e-03,  5.4145e-03,\n",
       "         2.7615e-03,  2.1769e-03,  4.8414e-03,  6.6244e-03,  5.1125e-03,\n",
       "         2.4147e-03,  1.1213e-02,  4.8944e-03,  1.1292e-02,  2.3345e-03,\n",
       "         5.3734e-03, -1.8094e-03,  2.4571e-02,  3.5586e-02,  9.7519e-02,\n",
       "         3.7338e-01,  3.1619e-01,  6.2415e-01,  4.1729e-02,  2.9304e-02,\n",
       "         2.6282e-02,  3.1677e-03,  1.5873e-03,  2.6625e-03,  4.3214e-03,\n",
       "         1.1993e-02,  1.7664e-03,  2.0344e-03,  4.1076e-03,  2.2615e-02,\n",
       "         3.6186e-03,  1.7773e-03,  1.4065e-03,  4.3524e-04,  1.6245e-03,\n",
       "         1.8974e-03,  2.4413e-03,  2.1740e-03,  1.2335e-03,  6.8844e-05,\n",
       "         6.5644e-03, -4.0917e-03, -1.1490e-02,  6.8924e-03,  6.8598e-02,\n",
       "         9.2599e-03,  4.6426e-03,  3.3934e-03, -1.0518e-04, -6.0677e-04,\n",
       "         1.0105e-04,  6.9846e-04,  1.2942e-03,  7.8651e-04,  8.4150e-04,\n",
       "         1.9329e-04,  1.2242e-02,  9.5683e-04, -6.1994e-04, -2.1681e-03,\n",
       "        -1.5607e-03,  2.6745e-04, -3.2232e-03, -5.4439e-04,  1.5437e-03,\n",
       "         8.5534e-04,  4.8136e-04,  5.1009e-04,  2.5893e-04, -3.0278e-04,\n",
       "         4.6496e-04,  1.2686e-04,  1.9072e-04,  1.1853e-03,  1.3522e-03,\n",
       "         4.3075e-04,  4.6806e-04,  2.6550e-04, -5.4218e-04,  2.2340e-03,\n",
       "         1.6255e-05, -2.8572e-03,  8.9386e-04,  1.2069e-03,  1.1484e-03,\n",
       "         5.7864e-04,  9.1538e-04,  5.9216e-04, -9.8259e-05, -7.7690e-04,\n",
       "         5.6257e-04,  3.5948e-04,  2.3110e-03,  2.4034e-04, -9.7897e-03,\n",
       "        -3.2422e-02,  2.2824e-02,  1.1002e-03,  5.0486e-04,  3.4610e-05,\n",
       "         4.8778e-04,  5.5285e-04,  5.2938e-04,  8.7397e-04,  1.2224e-03,\n",
       "         1.3499e-03,  3.5407e-04, -4.5982e-04,  6.0645e-04,  4.5189e-04,\n",
       "         2.7749e-04,  1.2486e-03,  4.0544e-03,  6.4214e-04,  5.1088e-04,\n",
       "         2.4737e-03,  7.3227e-04,  1.5401e-03,  5.4053e-04,  9.3881e-04,\n",
       "         8.7174e-04,  5.9161e-04,  9.1807e-04,  7.9563e-04,  4.9536e-04,\n",
       "        -9.3888e-05,  6.0994e-04,  6.3568e-04, -7.5529e-05,  1.1449e-03,\n",
       "         1.6246e-03,  1.7749e-03,  4.4598e-04,  1.9509e-04, -2.9851e-04,\n",
       "         6.5716e-04, -6.8273e-04, -4.7290e-04, -2.2744e-04, -5.0658e-04,\n",
       "        -2.0719e-03, -1.0992e-03,  7.8367e-04,  7.7963e-04,  8.5579e-04,\n",
       "         1.0221e-03,  7.6085e-04,  1.7659e-03,  1.4455e-03,  3.5322e-03,\n",
       "         1.0983e-03,  4.1995e-04,  4.3418e-04,  2.8141e-03,  1.3800e-02,\n",
       "         1.0895e-02,  2.6333e-02,  4.6809e-02,  4.0365e-02,  9.6389e-03,\n",
       "         5.0835e-03,  3.4324e-03,  1.9146e-03,  1.0951e-04,  1.2160e-03,\n",
       "         5.4702e-03,  2.0309e-03,  1.3471e-03,  9.2694e-04,  1.3971e-03,\n",
       "         5.0004e-03,  1.2146e-03,  1.1268e-03,  1.1745e-03,  6.6964e-04,\n",
       "         3.0998e-04,  3.2141e-04,  3.0200e-04,  1.7583e-04, -6.2832e-04,\n",
       "        -7.9236e-04,  5.2232e-04, -4.9763e-06, -3.7089e-04,  1.8320e-03,\n",
       "         1.6496e-03,  2.7809e-03,  2.4617e-03,  2.9080e-03,  2.0153e-03,\n",
       "         1.5674e-03,  1.1906e-03,  2.3470e-03,  1.5587e-03,  1.3130e-03,\n",
       "         8.7009e-04,  8.1263e-04,  8.9835e-04, -8.3251e-04,  1.5903e-03,\n",
       "         1.4965e-03, -1.5296e-03, -6.2461e-04, -4.2440e-05,  2.0389e-03,\n",
       "         6.4275e-04,  4.7801e-04,  7.7017e-04,  9.5176e-04,  5.9584e-04,\n",
       "         1.1918e-03,  2.0245e-03,  2.3028e-03,  2.7639e-03,  9.0825e-04,\n",
       "         6.1340e-04,  4.6061e-03,  1.4449e-03,  1.5171e-04,  1.3386e-03,\n",
       "        -4.6281e-06,  1.7737e-03,  8.3872e-04, -7.6109e-04,  9.6121e-04,\n",
       "         1.4559e-03,  3.3840e-03, -3.2914e-04,  1.8545e-03,  1.9727e-03,\n",
       "         2.7599e-03,  9.2980e-04,  1.0417e-02,  1.2948e-02,  1.0416e-02,\n",
       "         4.6096e-02,  7.0232e-02,  1.4345e-02,  5.9310e-03,  6.3240e-03,\n",
       "         2.0957e-03,  5.4475e-03,  4.6149e-04, -1.2038e-03, -3.3548e-04,\n",
       "         1.8780e-03, -1.5475e-02,  3.5751e-02,  6.8367e-02,  1.0146e-02,\n",
       "         1.0509e-02,  3.0974e-02,  3.1704e-02,  2.2089e-02,  7.5277e-03,\n",
       "        -1.4425e-03,  1.0872e-02, -8.3672e-03, -2.7002e-02,  9.8990e-03,\n",
       "         2.4995e-01,  4.0367e-01,  9.2291e-01,  1.0000e+00])"
      ]
     },
     "execution_count": 4,
     "metadata": {},
     "output_type": "execute_result"
    }
   ],
   "source": [
    "relevance"
   ]
  },
  {
   "cell_type": "code",
   "execution_count": 5,
   "metadata": {},
   "outputs": [
    {
     "ename": "FileNotFoundError",
     "evalue": "[Errno 2] No such file or directory: 'xelatex'",
     "output_type": "error",
     "traceback": [
      "\u001b[0;31m---------------------------------------------------------------------------\u001b[0m",
      "\u001b[0;31mFileNotFoundError\u001b[0m                         Traceback (most recent call last)",
      "Cell \u001b[0;32mIn[5], line 1\u001b[0m\n\u001b[0;32m----> 1\u001b[0m \u001b[43mpdf_heatmap\u001b[49m\u001b[43m(\u001b[49m\u001b[43mtokens\u001b[49m\u001b[43m,\u001b[49m\u001b[43m \u001b[49m\u001b[43mrelevance\u001b[49m\u001b[43m,\u001b[49m\u001b[43m \u001b[49m\u001b[43mpath\u001b[49m\u001b[38;5;241;43m=\u001b[39;49m\u001b[38;5;124;43m'\u001b[39;49m\u001b[38;5;124;43mheatmap.pdf\u001b[39;49m\u001b[38;5;124;43m'\u001b[39;49m\u001b[43m,\u001b[49m\u001b[43m \u001b[49m\u001b[43mbackend\u001b[49m\u001b[38;5;241;43m=\u001b[39;49m\u001b[38;5;124;43m'\u001b[39;49m\u001b[38;5;124;43mxelatex\u001b[39;49m\u001b[38;5;124;43m'\u001b[39;49m\u001b[43m)\u001b[49m\n",
      "File \u001b[0;32m~/dev/_thesis/venv/lib/python3.10/site-packages/lxt/utils.py:94\u001b[0m, in \u001b[0;36mpdf_heatmap\u001b[0;34m(words, relevances, cmap, path, delete_aux_files, backend)\u001b[0m\n\u001b[1;32m     91\u001b[0m \u001b[38;5;28;01massert\u001b[39;00m relevances\u001b[38;5;241m.\u001b[39mmin() \u001b[38;5;241m>\u001b[39m\u001b[38;5;241m=\u001b[39m \u001b[38;5;241m-\u001b[39m\u001b[38;5;241m1\u001b[39m \u001b[38;5;129;01mand\u001b[39;00m relevances\u001b[38;5;241m.\u001b[39mmax() \u001b[38;5;241m<\u001b[39m\u001b[38;5;241m=\u001b[39m \u001b[38;5;241m1\u001b[39m, \u001b[38;5;124m\"\u001b[39m\u001b[38;5;124mThe relevances must be normalized between -1 and 1.\u001b[39m\u001b[38;5;124m\"\u001b[39m\n\u001b[1;32m     93\u001b[0m latex_code \u001b[38;5;241m=\u001b[39m _generate_latex(words, relevances, cmap\u001b[38;5;241m=\u001b[39mcmap)\n\u001b[0;32m---> 94\u001b[0m \u001b[43m_compile_latex_to_pdf\u001b[49m\u001b[43m(\u001b[49m\u001b[43mlatex_code\u001b[49m\u001b[43m,\u001b[49m\u001b[43m \u001b[49m\u001b[43mpath\u001b[49m\u001b[38;5;241;43m=\u001b[39;49m\u001b[43mpath\u001b[49m\u001b[43m,\u001b[49m\u001b[43m \u001b[49m\u001b[43mdelete_aux_files\u001b[49m\u001b[38;5;241;43m=\u001b[39;49m\u001b[43mdelete_aux_files\u001b[49m\u001b[43m,\u001b[49m\u001b[43m \u001b[49m\u001b[43mbackend\u001b[49m\u001b[38;5;241;43m=\u001b[39;49m\u001b[43mbackend\u001b[49m\u001b[43m)\u001b[49m\n",
      "File \u001b[0;32m~/dev/_thesis/venv/lib/python3.10/site-packages/lxt/utils.py:61\u001b[0m, in \u001b[0;36m_compile_latex_to_pdf\u001b[0;34m(latex_code, path, delete_aux_files, backend)\u001b[0m\n\u001b[1;32m     59\u001b[0m     subprocess\u001b[38;5;241m.\u001b[39mcall([\u001b[38;5;124m'\u001b[39m\u001b[38;5;124mpdflatex\u001b[39m\u001b[38;5;124m'\u001b[39m, \u001b[38;5;124m'\u001b[39m\u001b[38;5;124m--output-directory\u001b[39m\u001b[38;5;124m'\u001b[39m, path\u001b[38;5;241m.\u001b[39mparent, path\u001b[38;5;241m.\u001b[39mwith_suffix(\u001b[38;5;124m\"\u001b[39m\u001b[38;5;124m.tex\u001b[39m\u001b[38;5;124m\"\u001b[39m)])\n\u001b[1;32m     60\u001b[0m \u001b[38;5;28;01melif\u001b[39;00m backend \u001b[38;5;241m==\u001b[39m \u001b[38;5;124m'\u001b[39m\u001b[38;5;124mxelatex\u001b[39m\u001b[38;5;124m'\u001b[39m:\n\u001b[0;32m---> 61\u001b[0m     \u001b[43msubprocess\u001b[49m\u001b[38;5;241;43m.\u001b[39;49m\u001b[43mcall\u001b[49m\u001b[43m(\u001b[49m\u001b[43m[\u001b[49m\u001b[38;5;124;43m'\u001b[39;49m\u001b[38;5;124;43mxelatex\u001b[39;49m\u001b[38;5;124;43m'\u001b[39;49m\u001b[43m,\u001b[49m\u001b[43m \u001b[49m\u001b[38;5;124;43m'\u001b[39;49m\u001b[38;5;124;43m--output-directory\u001b[39;49m\u001b[38;5;124;43m'\u001b[39;49m\u001b[43m,\u001b[49m\u001b[43m \u001b[49m\u001b[43mpath\u001b[49m\u001b[38;5;241;43m.\u001b[39;49m\u001b[43mparent\u001b[49m\u001b[43m,\u001b[49m\u001b[43m \u001b[49m\u001b[43mpath\u001b[49m\u001b[38;5;241;43m.\u001b[39;49m\u001b[43mwith_suffix\u001b[49m\u001b[43m(\u001b[49m\u001b[38;5;124;43m\"\u001b[39;49m\u001b[38;5;124;43m.tex\u001b[39;49m\u001b[38;5;124;43m\"\u001b[39;49m\u001b[43m)\u001b[49m\u001b[43m]\u001b[49m\u001b[43m)\u001b[49m\n\u001b[1;32m     63\u001b[0m \u001b[38;5;28mprint\u001b[39m(\u001b[38;5;124m\"\u001b[39m\u001b[38;5;124mPDF file generated successfully.\u001b[39m\u001b[38;5;124m\"\u001b[39m)\n\u001b[1;32m     65\u001b[0m \u001b[38;5;28;01mif\u001b[39;00m delete_aux_files:\n",
      "File \u001b[0;32m/usr/lib/python3.10/subprocess.py:345\u001b[0m, in \u001b[0;36mcall\u001b[0;34m(timeout, *popenargs, **kwargs)\u001b[0m\n\u001b[1;32m    337\u001b[0m \u001b[38;5;28;01mdef\u001b[39;00m \u001b[38;5;21mcall\u001b[39m(\u001b[38;5;241m*\u001b[39mpopenargs, timeout\u001b[38;5;241m=\u001b[39m\u001b[38;5;28;01mNone\u001b[39;00m, \u001b[38;5;241m*\u001b[39m\u001b[38;5;241m*\u001b[39mkwargs):\n\u001b[1;32m    338\u001b[0m \u001b[38;5;250m    \u001b[39m\u001b[38;5;124;03m\"\"\"Run command with arguments.  Wait for command to complete or\u001b[39;00m\n\u001b[1;32m    339\u001b[0m \u001b[38;5;124;03m    timeout, then return the returncode attribute.\u001b[39;00m\n\u001b[1;32m    340\u001b[0m \n\u001b[0;32m   (...)\u001b[0m\n\u001b[1;32m    343\u001b[0m \u001b[38;5;124;03m    retcode = call([\"ls\", \"-l\"])\u001b[39;00m\n\u001b[1;32m    344\u001b[0m \u001b[38;5;124;03m    \"\"\"\u001b[39;00m\n\u001b[0;32m--> 345\u001b[0m     \u001b[38;5;28;01mwith\u001b[39;00m \u001b[43mPopen\u001b[49m\u001b[43m(\u001b[49m\u001b[38;5;241;43m*\u001b[39;49m\u001b[43mpopenargs\u001b[49m\u001b[43m,\u001b[49m\u001b[43m \u001b[49m\u001b[38;5;241;43m*\u001b[39;49m\u001b[38;5;241;43m*\u001b[39;49m\u001b[43mkwargs\u001b[49m\u001b[43m)\u001b[49m \u001b[38;5;28;01mas\u001b[39;00m p:\n\u001b[1;32m    346\u001b[0m         \u001b[38;5;28;01mtry\u001b[39;00m:\n\u001b[1;32m    347\u001b[0m             \u001b[38;5;28;01mreturn\u001b[39;00m p\u001b[38;5;241m.\u001b[39mwait(timeout\u001b[38;5;241m=\u001b[39mtimeout)\n",
      "File \u001b[0;32m/usr/lib/python3.10/subprocess.py:971\u001b[0m, in \u001b[0;36mPopen.__init__\u001b[0;34m(self, args, bufsize, executable, stdin, stdout, stderr, preexec_fn, close_fds, shell, cwd, env, universal_newlines, startupinfo, creationflags, restore_signals, start_new_session, pass_fds, user, group, extra_groups, encoding, errors, text, umask, pipesize)\u001b[0m\n\u001b[1;32m    967\u001b[0m         \u001b[38;5;28;01mif\u001b[39;00m \u001b[38;5;28mself\u001b[39m\u001b[38;5;241m.\u001b[39mtext_mode:\n\u001b[1;32m    968\u001b[0m             \u001b[38;5;28mself\u001b[39m\u001b[38;5;241m.\u001b[39mstderr \u001b[38;5;241m=\u001b[39m io\u001b[38;5;241m.\u001b[39mTextIOWrapper(\u001b[38;5;28mself\u001b[39m\u001b[38;5;241m.\u001b[39mstderr,\n\u001b[1;32m    969\u001b[0m                     encoding\u001b[38;5;241m=\u001b[39mencoding, errors\u001b[38;5;241m=\u001b[39merrors)\n\u001b[0;32m--> 971\u001b[0m     \u001b[38;5;28;43mself\u001b[39;49m\u001b[38;5;241;43m.\u001b[39;49m\u001b[43m_execute_child\u001b[49m\u001b[43m(\u001b[49m\u001b[43margs\u001b[49m\u001b[43m,\u001b[49m\u001b[43m \u001b[49m\u001b[43mexecutable\u001b[49m\u001b[43m,\u001b[49m\u001b[43m \u001b[49m\u001b[43mpreexec_fn\u001b[49m\u001b[43m,\u001b[49m\u001b[43m \u001b[49m\u001b[43mclose_fds\u001b[49m\u001b[43m,\u001b[49m\n\u001b[1;32m    972\u001b[0m \u001b[43m                        \u001b[49m\u001b[43mpass_fds\u001b[49m\u001b[43m,\u001b[49m\u001b[43m \u001b[49m\u001b[43mcwd\u001b[49m\u001b[43m,\u001b[49m\u001b[43m \u001b[49m\u001b[43menv\u001b[49m\u001b[43m,\u001b[49m\n\u001b[1;32m    973\u001b[0m \u001b[43m                        \u001b[49m\u001b[43mstartupinfo\u001b[49m\u001b[43m,\u001b[49m\u001b[43m \u001b[49m\u001b[43mcreationflags\u001b[49m\u001b[43m,\u001b[49m\u001b[43m \u001b[49m\u001b[43mshell\u001b[49m\u001b[43m,\u001b[49m\n\u001b[1;32m    974\u001b[0m \u001b[43m                        \u001b[49m\u001b[43mp2cread\u001b[49m\u001b[43m,\u001b[49m\u001b[43m \u001b[49m\u001b[43mp2cwrite\u001b[49m\u001b[43m,\u001b[49m\n\u001b[1;32m    975\u001b[0m \u001b[43m                        \u001b[49m\u001b[43mc2pread\u001b[49m\u001b[43m,\u001b[49m\u001b[43m \u001b[49m\u001b[43mc2pwrite\u001b[49m\u001b[43m,\u001b[49m\n\u001b[1;32m    976\u001b[0m \u001b[43m                        \u001b[49m\u001b[43merrread\u001b[49m\u001b[43m,\u001b[49m\u001b[43m \u001b[49m\u001b[43merrwrite\u001b[49m\u001b[43m,\u001b[49m\n\u001b[1;32m    977\u001b[0m \u001b[43m                        \u001b[49m\u001b[43mrestore_signals\u001b[49m\u001b[43m,\u001b[49m\n\u001b[1;32m    978\u001b[0m \u001b[43m                        \u001b[49m\u001b[43mgid\u001b[49m\u001b[43m,\u001b[49m\u001b[43m \u001b[49m\u001b[43mgids\u001b[49m\u001b[43m,\u001b[49m\u001b[43m \u001b[49m\u001b[43muid\u001b[49m\u001b[43m,\u001b[49m\u001b[43m \u001b[49m\u001b[43mumask\u001b[49m\u001b[43m,\u001b[49m\n\u001b[1;32m    979\u001b[0m \u001b[43m                        \u001b[49m\u001b[43mstart_new_session\u001b[49m\u001b[43m)\u001b[49m\n\u001b[1;32m    980\u001b[0m \u001b[38;5;28;01mexcept\u001b[39;00m:\n\u001b[1;32m    981\u001b[0m     \u001b[38;5;66;03m# Cleanup if the child failed starting.\u001b[39;00m\n\u001b[1;32m    982\u001b[0m     \u001b[38;5;28;01mfor\u001b[39;00m f \u001b[38;5;129;01min\u001b[39;00m \u001b[38;5;28mfilter\u001b[39m(\u001b[38;5;28;01mNone\u001b[39;00m, (\u001b[38;5;28mself\u001b[39m\u001b[38;5;241m.\u001b[39mstdin, \u001b[38;5;28mself\u001b[39m\u001b[38;5;241m.\u001b[39mstdout, \u001b[38;5;28mself\u001b[39m\u001b[38;5;241m.\u001b[39mstderr)):\n",
      "File \u001b[0;32m/usr/lib/python3.10/subprocess.py:1863\u001b[0m, in \u001b[0;36mPopen._execute_child\u001b[0;34m(self, args, executable, preexec_fn, close_fds, pass_fds, cwd, env, startupinfo, creationflags, shell, p2cread, p2cwrite, c2pread, c2pwrite, errread, errwrite, restore_signals, gid, gids, uid, umask, start_new_session)\u001b[0m\n\u001b[1;32m   1861\u001b[0m     \u001b[38;5;28;01mif\u001b[39;00m errno_num \u001b[38;5;241m!=\u001b[39m \u001b[38;5;241m0\u001b[39m:\n\u001b[1;32m   1862\u001b[0m         err_msg \u001b[38;5;241m=\u001b[39m os\u001b[38;5;241m.\u001b[39mstrerror(errno_num)\n\u001b[0;32m-> 1863\u001b[0m     \u001b[38;5;28;01mraise\u001b[39;00m child_exception_type(errno_num, err_msg, err_filename)\n\u001b[1;32m   1864\u001b[0m \u001b[38;5;28;01mraise\u001b[39;00m child_exception_type(err_msg)\n",
      "\u001b[0;31mFileNotFoundError\u001b[0m: [Errno 2] No such file or directory: 'xelatex'"
     ]
    }
   ],
   "source": [
    "pdf_heatmap(tokens, relevance, path='heatmap.pdf', backend='xelatex')"
   ]
  }
 ],
 "metadata": {
  "kernelspec": {
   "display_name": "venv",
   "language": "python",
   "name": "python3"
  },
  "language_info": {
   "codemirror_mode": {
    "name": "ipython",
    "version": 3
   },
   "file_extension": ".py",
   "mimetype": "text/x-python",
   "name": "python",
   "nbconvert_exporter": "python",
   "pygments_lexer": "ipython3",
   "version": "3.11.9"
  }
 },
 "nbformat": 4,
 "nbformat_minor": 2
}
