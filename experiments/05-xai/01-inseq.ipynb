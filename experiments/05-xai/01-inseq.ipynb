{
 "cells": [
  {
   "cell_type": "code",
   "execution_count": 1,
   "metadata": {},
   "outputs": [],
   "source": [
    "%run ../ipynb_util_tars.py"
   ]
  },
  {
   "cell_type": "markdown",
   "metadata": {},
   "source": [
    "# inseq on finetuned SciBERT"
   ]
  },
  {
   "cell_type": "code",
   "execution_count": 5,
   "metadata": {},
   "outputs": [],
   "source": [
    "import transformers\n",
    "from transformers import AutoTokenizer, AutoModelForSequenceClassification\n",
    "\n",
    "# SciBERT\n",
    "SCIBERT_PATH = CHECKPOINT_PATH + \"/allenai/scibert_scivocab_uncased-ft-zo_up-lower/checkpoint-240\"\n",
    "\n",
    "scibert_model = AutoModelForSequenceClassification.from_pretrained(\n",
    "    SCIBERT_PATH,\n",
    "    num_labels=17,\n",
    ")\n",
    "scibert_tokenizer = AutoTokenizer.from_pretrained(SCIBERT_PATH)\n",
    "pred = transformers.pipeline(\n",
    "    \"text-classification\",\n",
    "    model=scibert_model,\n",
    "    batch_size=8,\n",
    "    tokenizer=scibert_tokenizer,\n",
    "    truncation=True,\n",
    "    padding=True,\n",
    "    max_length=512,\n",
    "    device=0,\n",
    "    top_k=None,     # equal to return_all_scores=True\n",
    ")\n"
   ]
  },
  {
   "cell_type": "code",
   "execution_count": 14,
   "metadata": {},
   "outputs": [
    {
     "data": {
      "application/vnd.jupyter.widget-view+json": {
       "model_id": "0b95e6a1cdcd497d90fe9a8d7379dc6e",
       "version_major": 2,
       "version_minor": 0
      },
      "text/plain": [
       "tokenizer_config.json:   0%|          | 0.00/42.0 [00:00<?, ?B/s]"
      ]
     },
     "metadata": {},
     "output_type": "display_data"
    },
    {
     "data": {
      "application/vnd.jupyter.widget-view+json": {
       "model_id": "2c50e59ab8d74ca38a10905072ae389c",
       "version_major": 2,
       "version_minor": 0
      },
      "text/plain": [
       "source.spm:   0%|          | 0.00/778k [00:00<?, ?B/s]"
      ]
     },
     "metadata": {},
     "output_type": "display_data"
    },
    {
     "data": {
      "application/vnd.jupyter.widget-view+json": {
       "model_id": "89f9a17822b84e31bf07597ab16be6a0",
       "version_major": 2,
       "version_minor": 0
      },
      "text/plain": [
       "target.spm:   0%|          | 0.00/802k [00:00<?, ?B/s]"
      ]
     },
     "metadata": {},
     "output_type": "display_data"
    },
    {
     "data": {
      "application/vnd.jupyter.widget-view+json": {
       "model_id": "912c717ddedb42159a5f854ad0b699ad",
       "version_major": 2,
       "version_minor": 0
      },
      "text/plain": [
       "vocab.json:   0%|          | 0.00/1.34M [00:00<?, ?B/s]"
      ]
     },
     "metadata": {},
     "output_type": "display_data"
    },
    {
     "name": "stderr",
     "output_type": "stream",
     "text": [
      "/home/user/dbielik/msc-thesis/venv/lib/python3.11/site-packages/transformers/models/marian/tokenization_marian.py:175: UserWarning: Recommended: pip install sacremoses.\n",
      "  warnings.warn(\"Recommended: pip install sacremoses.\")\n"
     ]
    }
   ],
   "source": [
    "import inseq\n",
    "\n",
    "model = inseq.load_model(\n",
    "    \"Helsinki-NLP/opus-mt-en-fr\",\n",
    "    \"integrated_gradients\",\n",
    ")"
   ]
  },
  {
   "cell_type": "code",
   "execution_count": 15,
   "metadata": {},
   "outputs": [
    {
     "name": "stderr",
     "output_type": "stream",
     "text": [
      "Attributing with integrated_gradients...: 100%|██████████| 22/22 [00:01<00:00, 17.66it/s]\n"
     ]
    },
    {
     "data": {
      "text/html": [
       "<br/><b>0th instance:</b><br/>\n",
       "<html>\n",
       "<div id=\"kuurvplyuirxlgfbnqpb_viz_container\">\n",
       "    <div id=\"kuurvplyuirxlgfbnqpb_content\" style=\"padding:15px;border-style:solid;margin:5px;\">\n",
       "        <div id = \"kuurvplyuirxlgfbnqpb_saliency_plot_container\" class=\"kuurvplyuirxlgfbnqpb_viz_container\" style=\"display:block\">\n",
       "            \n",
       "<div id=\"qnjpevjuxhzfrxcvkbsj_saliency_plot\" class=\"qnjpevjuxhzfrxcvkbsj_viz_content\">\n",
       "    <div style=\"margin:5px;font-family:sans-serif;font-weight:bold;\">\n",
       "        <span style=\"font-size: 20px;\">Source Saliency Heatmap</span>\n",
       "        <br>\n",
       "        x: Generated tokens, y: Attributed tokens\n",
       "    </div>\n",
       "    \n",
       "<table border=\"1\" cellpadding=\"5\" cellspacing=\"5\"\n",
       "    style=\"overflow-x:scroll;display:block;\">\n",
       "    <tr><th></th>\n",
       "<th>▁Le</th><th>▁développeur</th><th>▁a</th><th>▁argument</th><th>é</th><th>▁avec</th><th>▁le</th><th>▁concepteur</th><th>▁parce</th><th>▁que</th><th>▁son</th><th>▁idée</th><th>▁ne</th><th>▁peut</th><th>▁pas</th><th>▁être</th><th>▁mise</th><th>▁en</th><th>▁œuvre</th><th>.</th><th>&lt;/s&gt;</th></tr><tr><th>▁The</th><th style=\"background:rgba(255.0, 13.0, 87.0, 0.3772628243216479)\">0.256</th><th style=\"background:rgba(255.0, 13.0, 87.0, 0.29843533372945136)\">0.201</th><th style=\"background:rgba(255.0, 13.0, 87.0, 0.22749059219647458)\">0.154</th><th style=\"background:rgba(255.0, 13.0, 87.0, 0.08560110913052081)\">0.059</th><th style=\"background:rgba(255.0, 13.0, 87.0, 0.10924935630817992)\">0.074</th><th style=\"background:rgba(255.0, 13.0, 87.0, 0.18019409784115661)\">0.122</th><th style=\"background:rgba(255.0, 13.0, 87.0, 0.33784907902554967)\">0.231</th><th style=\"background:rgba(255.0, 13.0, 87.0, 0.10924935630817992)\">0.079</th><th style=\"background:rgba(255.0, 13.0, 87.0, 0.18019409784115661)\">0.126</th><th style=\"background:rgba(255.0, 13.0, 87.0, 0.06195286195286207)\">0.043</th><th style=\"background:rgba(255.0, 13.0, 87.0, 0.08560110913052081)\">0.063</th><th style=\"background:rgba(255.0, 13.0, 87.0, 0.030421865715983164)\">0.021</th><th style=\"background:rgba(255.0, 13.0, 87.0, 0.06195286195286207)\">0.044</th><th style=\"background:rgba(255.0, 13.0, 87.0, 0.20384234501881549)\">0.137</th><th style=\"background:rgba(255.0, 13.0, 87.0, 0.06195286195286207)\">0.044</th><th style=\"background:rgba(255.0, 13.0, 87.0, 0.10924935630817992)\">0.074</th><th style=\"background:rgba(255.0, 13.0, 87.0, 0.04618736383442265)\">0.033</th><th style=\"background:rgba(255.0, 13.0, 87.0, 0.06983561101208159)\">0.049</th><th style=\"background:rgba(255.0, 13.0, 87.0, 0.10924935630817992)\">0.074</th><th style=\"background:rgba(255.0, 13.0, 87.0, 0.03830461477520289)\">0.029</th><th style=\"background:rgba(255.0, 13.0, 87.0, 0.08560110913052081)\">0.063</th></tr><tr><th>▁developer</th><th style=\"background:rgba(255.0, 13.0, 87.0, 0.3536145771439889)\">0.239</th><th style=\"background:rgba(255.0, 13.0, 87.0, 0.5191523073876015)\">0.347</th><th style=\"background:rgba(255.0, 13.0, 87.0, 0.1171321053673995)\">0.08</th><th style=\"background:rgba(255.0, 13.0, 87.0, 0.14078035254505847)\">0.096</th><th style=\"background:rgba(255.0, 13.0, 87.0, 0.14866310160427795)\">0.103</th><th style=\"background:rgba(255.0, 13.0, 87.0, 0.10136660724896006)\">0.073</th><th style=\"background:rgba(255.0, 13.0, 87.0, 0.17231134878193693)\">0.12</th><th style=\"background:rgba(255.0, 13.0, 87.0, 0.15654585066349747)\">0.106</th><th style=\"background:rgba(255.0, 13.0, 87.0, 0.05407011289364243)\">0.04</th><th style=\"background:rgba(255.0, 13.0, 87.0, 0.07771836007130124)\">0.054</th><th style=\"background:rgba(255.0, 13.0, 87.0, 0.05407011289364243)\">0.038</th><th style=\"background:rgba(255.0, 13.0, 87.0, 0.05407011289364243)\">0.039</th><th style=\"background:rgba(255.0, 13.0, 87.0, 0.06983561101208159)\">0.048</th><th style=\"background:rgba(255.0, 13.0, 87.0, 0.1171321053673995)\">0.084</th><th style=\"background:rgba(255.0, 13.0, 87.0, 0.13289760348583876)\">0.091</th><th style=\"background:rgba(255.0, 13.0, 87.0, 0.03830461477520289)\">0.029</th><th style=\"background:rgba(255.0, 13.0, 87.0, 0.16442859972271742)\">0.113</th><th style=\"background:rgba(255.0, 13.0, 87.0, 0.06983561101208159)\">0.05</th><th style=\"background:rgba(255.0, 13.0, 87.0, 0.14078035254505847)\">0.095</th><th style=\"background:rgba(255.0, 13.0, 87.0, 0.02253911665676371)\">0.018</th><th style=\"background:rgba(255.0, 13.0, 87.0, 0.07771836007130124)\">0.053</th></tr><tr><th>▁argued</th><th style=\"background:rgba(255.0, 13.0, 87.0, 0.13289760348583876)\">0.092</th><th style=\"background:rgba(255.0, 13.0, 87.0, 0.17231134878193693)\">0.118</th><th style=\"background:rgba(255.0, 13.0, 87.0, 0.5979797979797981)\">0.401</th><th style=\"background:rgba(255.0, 13.0, 87.0, 0.5822142998613588)\">0.391</th><th style=\"background:rgba(255.0, 13.0, 87.0, 0.306318082788671)\">0.209</th><th style=\"background:rgba(255.0, 13.0, 87.0, 0.2826698356110118)\">0.194</th><th style=\"background:rgba(255.0, 13.0, 87.0, 0.07771836007130124)\">0.053</th><th style=\"background:rgba(255.0, 13.0, 87.0, 0.08560110913052081)\">0.059</th><th style=\"background:rgba(255.0, 13.0, 87.0, 0.2117250940780353)\">0.143</th><th style=\"background:rgba(255.0, 13.0, 87.0, 0.06195286195286207)\">0.047</th><th style=\"background:rgba(255.0, 13.0, 87.0, 0.05407011289364243)\">0.041</th><th style=\"background:rgba(255.0, 13.0, 87.0, 0.04618736383442265)\">0.034</th><th style=\"background:rgba(255.0, 13.0, 87.0, 0.06195286195286207)\">0.044</th><th style=\"background:rgba(255.0, 13.0, 87.0, 0.10924935630817992)\">0.076</th><th style=\"background:rgba(255.0, 13.0, 87.0, 0.07771836007130124)\">0.056</th><th style=\"background:rgba(255.0, 13.0, 87.0, 0.030421865715983164)\">0.025</th><th style=\"background:rgba(255.0, 13.0, 87.0, 0.1171321053673995)\">0.083</th><th style=\"background:rgba(255.0, 13.0, 87.0, 0.06195286195286207)\">0.045</th><th style=\"background:rgba(255.0, 13.0, 87.0, 0.07771836007130124)\">0.053</th><th style=\"background:rgba(255.0, 13.0, 87.0, 0.03830461477520289)\">0.026</th><th style=\"background:rgba(255.0, 13.0, 87.0, 0.10924935630817992)\">0.076</th></tr><tr><th>▁with</th><th style=\"background:rgba(255.0, 13.0, 87.0, 0.030421865715983164)\">0.023</th><th style=\"background:rgba(255.0, 13.0, 87.0, 0.05407011289364243)\">0.037</th><th style=\"background:rgba(255.0, 13.0, 87.0, 0.1171321053673995)\">0.082</th><th style=\"background:rgba(255.0, 13.0, 87.0, 0.13289760348583876)\">0.092</th><th style=\"background:rgba(255.0, 13.0, 87.0, 0.1880768469003763)\">0.127</th><th style=\"background:rgba(255.0, 13.0, 87.0, 0.43244206773618543)\">0.293</th><th style=\"background:rgba(255.0, 13.0, 87.0, 0.06195286195286207)\">0.046</th><th style=\"background:rgba(255.0, 13.0, 87.0, 0.07771836007130124)\">0.053</th><th style=\"background:rgba(255.0, 13.0, 87.0, 0.23537334125569415)\">0.163</th><th style=\"background:rgba(255.0, 13.0, 87.0, 0.030421865715983164)\">0.022</th><th style=\"background:rgba(255.0, 13.0, 87.0, 0.02253911665676371)\">0.017</th><th style=\"background:rgba(255.0, 13.0, 87.0, 0.02253911665676371)\">0.017</th><th style=\"background:rgba(255.0, 13.0, 87.0, 0.02253911665676371)\">0.018</th><th style=\"background:rgba(255.0, 13.0, 87.0, 0.03830461477520289)\">0.031</th><th style=\"background:rgba(255.0, 13.0, 87.0, 0.03830461477520289)\">0.027</th><th style=\"background:rgba(255.0, 13.0, 87.0, 0.02253911665676371)\">0.018</th><th style=\"background:rgba(255.0, 13.0, 87.0, 0.03830461477520289)\">0.03</th><th style=\"background:rgba(255.0, 13.0, 87.0, 0.04618736383442265)\">0.032</th><th style=\"background:rgba(255.0, 13.0, 87.0, 0.030421865715983164)\">0.023</th><th style=\"background:rgba(255.0, 13.0, 87.0, 0.02253911665676371)\">0.019</th><th style=\"background:rgba(255.0, 13.0, 87.0, 0.04618736383442265)\">0.036</th></tr><tr><th>▁the</th><th style=\"background:rgba(255.0, 13.0, 87.0, 0.05407011289364243)\">0.038</th><th style=\"background:rgba(255.0, 13.0, 87.0, 0.06983561101208159)\">0.051</th><th style=\"background:rgba(255.0, 13.0, 87.0, 0.07771836007130124)\">0.053</th><th style=\"background:rgba(255.0, 13.0, 87.0, 0.13289760348583876)\">0.09</th><th style=\"background:rgba(255.0, 13.0, 87.0, 0.09348385818974037)\">0.064</th><th style=\"background:rgba(255.0, 13.0, 87.0, 0.16442859972271742)\">0.112</th><th style=\"background:rgba(255.0, 13.0, 87.0, 0.1171321053673995)\">0.082</th><th style=\"background:rgba(255.0, 13.0, 87.0, 0.26690433749257286)\">0.182</th><th style=\"background:rgba(255.0, 13.0, 87.0, 0.22749059219647458)\">0.157</th><th style=\"background:rgba(255.0, 13.0, 87.0, 0.05407011289364243)\">0.039</th><th style=\"background:rgba(255.0, 13.0, 87.0, 0.04618736383442265)\">0.033</th><th style=\"background:rgba(255.0, 13.0, 87.0, 0.030421865715983164)\">0.025</th><th style=\"background:rgba(255.0, 13.0, 87.0, 0.030421865715983164)\">0.021</th><th style=\"background:rgba(255.0, 13.0, 87.0, 0.04618736383442265)\">0.034</th><th style=\"background:rgba(255.0, 13.0, 87.0, 0.06195286195286207)\">0.043</th><th style=\"background:rgba(255.0, 13.0, 87.0, 0.02253911665676371)\">0.02</th><th style=\"background:rgba(255.0, 13.0, 87.0, 0.07771836007130124)\">0.058</th><th style=\"background:rgba(255.0, 13.0, 87.0, 0.03830461477520289)\">0.03</th><th style=\"background:rgba(255.0, 13.0, 87.0, 0.05407011289364243)\">0.039</th><th style=\"background:rgba(255.0, 13.0, 87.0, 0.02253911665676371)\">0.017</th><th style=\"background:rgba(255.0, 13.0, 87.0, 0.03830461477520289)\">0.03</th></tr><tr><th>▁designer</th><th style=\"background:rgba(255.0, 13.0, 87.0, 0.03830461477520289)\">0.031</th><th style=\"background:rgba(255.0, 13.0, 87.0, 0.06983561101208159)\">0.051</th><th style=\"background:rgba(255.0, 13.0, 87.0, 0.05407011289364243)\">0.038</th><th style=\"background:rgba(255.0, 13.0, 87.0, 0.07771836007130124)\">0.053</th><th style=\"background:rgba(255.0, 13.0, 87.0, 0.10136660724896006)\">0.072</th><th style=\"background:rgba(255.0, 13.0, 87.0, 0.06983561101208159)\">0.049</th><th style=\"background:rgba(255.0, 13.0, 87.0, 0.23537334125569415)\">0.158</th><th style=\"background:rgba(255.0, 13.0, 87.0, 0.4009110714993067)\">0.273</th><th style=\"background:rgba(255.0, 13.0, 87.0, 0.22749059219647458)\">0.155</th><th style=\"background:rgba(255.0, 13.0, 87.0, 0.04618736383442265)\">0.036</th><th style=\"background:rgba(255.0, 13.0, 87.0, 0.03830461477520289)\">0.027</th><th style=\"background:rgba(255.0, 13.0, 87.0, 0.04618736383442265)\">0.032</th><th style=\"background:rgba(255.0, 13.0, 87.0, 0.04618736383442265)\">0.033</th><th style=\"background:rgba(255.0, 13.0, 87.0, 0.06195286195286207)\">0.047</th><th style=\"background:rgba(255.0, 13.0, 87.0, 0.06195286195286207)\">0.047</th><th style=\"background:rgba(255.0, 13.0, 87.0, 0.02253911665676371)\">0.02</th><th style=\"background:rgba(255.0, 13.0, 87.0, 0.08560110913052081)\">0.062</th><th style=\"background:rgba(255.0, 13.0, 87.0, 0.05407011289364243)\">0.04</th><th style=\"background:rgba(255.0, 13.0, 87.0, 0.06983561101208159)\">0.05</th><th style=\"background:rgba(255.0, 13.0, 87.0, 0.014656367597544035)\">0.015</th><th style=\"background:rgba(255.0, 13.0, 87.0, 0.05407011289364243)\">0.041</th></tr><tr><th>▁because</th><th style=\"background:rgba(255.0, 13.0, 87.0, 0.03830461477520289)\">0.03</th><th style=\"background:rgba(255.0, 13.0, 87.0, 0.02253911665676371)\">0.021</th><th style=\"background:rgba(255.0, 13.0, 87.0, 0.04618736383442265)\">0.032</th><th style=\"background:rgba(255.0, 13.0, 87.0, 0.04618736383442265)\">0.035</th><th style=\"background:rgba(255.0, 13.0, 87.0, 0.14078035254505847)\">0.095</th><th style=\"background:rgba(255.0, 13.0, 87.0, 0.03830461477520289)\">0.029</th><th style=\"background:rgba(255.0, 13.0, 87.0, 0.05407011289364243)\">0.038</th><th style=\"background:rgba(255.0, 13.0, 87.0, 0.06195286195286207)\">0.047</th><th style=\"background:rgba(255.0, 13.0, 87.0, 0.08560110913052081)\">0.062</th><th style=\"background:rgba(255.0, 13.0, 87.0, 0.10136660724896006)\">0.073</th><th style=\"background:rgba(255.0, 13.0, 87.0, 0.05407011289364243)\">0.039</th><th style=\"background:rgba(255.0, 13.0, 87.0, 0.03830461477520289)\">0.031</th><th style=\"background:rgba(255.0, 13.0, 87.0, 0.07771836007130124)\">0.057</th><th style=\"background:rgba(255.0, 13.0, 87.0, 0.06983561101208159)\">0.049</th><th style=\"background:rgba(255.0, 13.0, 87.0, 0.06195286195286207)\">0.045</th><th style=\"background:rgba(255.0, 13.0, 87.0, 0.02253911665676371)\">0.018</th><th style=\"background:rgba(255.0, 13.0, 87.0, 0.030421865715983164)\">0.024</th><th style=\"background:rgba(255.0, 13.0, 87.0, 0.2117250940780353)\">0.146</th><th style=\"background:rgba(255.0, 13.0, 87.0, 0.02253911665676371)\">0.02</th><th style=\"background:rgba(255.0, 13.0, 87.0, 0.03830461477520289)\">0.031</th><th style=\"background:rgba(255.0, 13.0, 87.0, 0.05407011289364243)\">0.038</th></tr><tr><th>▁her</th><th style=\"background:rgba(255.0, 13.0, 87.0, 0.219607843137255)\">0.148</th><th style=\"background:rgba(255.0, 13.0, 87.0, 0.06195286195286207)\">0.043</th><th style=\"background:rgba(255.0, 13.0, 87.0, 0.030421865715983164)\">0.026</th><th style=\"background:rgba(255.0, 13.0, 87.0, 0.03830461477520289)\">0.029</th><th style=\"background:rgba(255.0, 13.0, 87.0, 0.08560110913052081)\">0.058</th><th style=\"background:rgba(255.0, 13.0, 87.0, 0.030421865715983164)\">0.022</th><th style=\"background:rgba(255.0, 13.0, 87.0, 0.1959595959595959)\">0.132</th><th style=\"background:rgba(255.0, 13.0, 87.0, 0.05407011289364243)\">0.042</th><th style=\"background:rgba(255.0, 13.0, 87.0, 0.03830461477520289)\">0.028</th><th style=\"background:rgba(255.0, 13.0, 87.0, 0.36149732620320857)\">0.243</th><th style=\"background:rgba(255.0, 13.0, 87.0, 0.32208358090711037)\">0.218</th><th style=\"background:rgba(255.0, 13.0, 87.0, 0.14866310160427795)\">0.101</th><th style=\"background:rgba(255.0, 13.0, 87.0, 0.06983561101208159)\">0.05</th><th style=\"background:rgba(255.0, 13.0, 87.0, 0.06983561101208159)\">0.049</th><th style=\"background:rgba(255.0, 13.0, 87.0, 0.05407011289364243)\">0.039</th><th style=\"background:rgba(255.0, 13.0, 87.0, 0.030421865715983164)\">0.023</th><th style=\"background:rgba(255.0, 13.0, 87.0, 0.06195286195286207)\">0.045</th><th style=\"background:rgba(255.0, 13.0, 87.0, 0.08560110913052081)\">0.059</th><th style=\"background:rgba(255.0, 13.0, 87.0, 0.06195286195286207)\">0.044</th><th style=\"background:rgba(255.0, 13.0, 87.0, 0.014656367597544035)\">0.015</th><th style=\"background:rgba(255.0, 13.0, 87.0, 0.06195286195286207)\">0.043</th></tr><tr><th>▁idea</th><th style=\"background:rgba(255.0, 13.0, 87.0, 0.07771836007130124)\">0.054</th><th style=\"background:rgba(255.0, 13.0, 87.0, 0.030421865715983164)\">0.025</th><th style=\"background:rgba(255.0, 13.0, 87.0, 0.04618736383442265)\">0.032</th><th style=\"background:rgba(255.0, 13.0, 87.0, 0.06195286195286207)\">0.047</th><th style=\"background:rgba(255.0, 13.0, 87.0, 0.06195286195286207)\">0.047</th><th style=\"background:rgba(255.0, 13.0, 87.0, 0.03830461477520289)\">0.029</th><th style=\"background:rgba(255.0, 13.0, 87.0, 0.07771836007130124)\">0.054</th><th style=\"background:rgba(255.0, 13.0, 87.0, 0.06195286195286207)\">0.043</th><th style=\"background:rgba(255.0, 13.0, 87.0, 0.03830461477520289)\">0.03</th><th style=\"background:rgba(255.0, 13.0, 87.0, 0.306318082788671)\">0.208</th><th style=\"background:rgba(255.0, 13.0, 87.0, 0.5428005545652606)\">0.366</th><th style=\"background:rgba(255.0, 13.0, 87.0, 0.755634779164191)\">0.505</th><th style=\"background:rgba(255.0, 13.0, 87.0, 0.13289760348583876)\">0.092</th><th style=\"background:rgba(255.0, 13.0, 87.0, 0.1171321053673995)\">0.081</th><th style=\"background:rgba(255.0, 13.0, 87.0, 0.06983561101208159)\">0.048</th><th style=\"background:rgba(255.0, 13.0, 87.0, 0.04618736383442265)\">0.032</th><th style=\"background:rgba(255.0, 13.0, 87.0, 0.09348385818974037)\">0.067</th><th style=\"background:rgba(255.0, 13.0, 87.0, 0.06983561101208159)\">0.051</th><th style=\"background:rgba(255.0, 13.0, 87.0, 0.08560110913052081)\">0.058</th><th style=\"background:rgba(255.0, 13.0, 87.0, 0.014656367597544035)\">0.015</th><th style=\"background:rgba(255.0, 13.0, 87.0, 0.06195286195286207)\">0.044</th></tr><tr><th>▁cannot</th><th style=\"background:rgba(255.0, 13.0, 87.0, 0.03830461477520289)\">0.028</th><th style=\"background:rgba(255.0, 13.0, 87.0, 0.030421865715983164)\">0.025</th><th style=\"background:rgba(255.0, 13.0, 87.0, 0.03830461477520289)\">0.03</th><th style=\"background:rgba(255.0, 13.0, 87.0, 0.04618736383442265)\">0.033</th><th style=\"background:rgba(255.0, 13.0, 87.0, 0.05407011289364243)\">0.041</th><th style=\"background:rgba(255.0, 13.0, 87.0, 0.030421865715983164)\">0.022</th><th style=\"background:rgba(255.0, 13.0, 87.0, 0.030421865715983164)\">0.021</th><th style=\"background:rgba(255.0, 13.0, 87.0, 0.030421865715983164)\">0.026</th><th style=\"background:rgba(255.0, 13.0, 87.0, 0.04618736383442265)\">0.033</th><th style=\"background:rgba(255.0, 13.0, 87.0, 0.15654585066349747)\">0.11</th><th style=\"background:rgba(255.0, 13.0, 87.0, 0.10924935630817992)\">0.076</th><th style=\"background:rgba(255.0, 13.0, 87.0, 0.10136660724896006)\">0.07</th><th style=\"background:rgba(255.0, 13.0, 87.0, 0.48762131115072294)\">0.329</th><th style=\"background:rgba(255.0, 13.0, 87.0, 0.32208358090711037)\">0.216</th><th style=\"background:rgba(255.0, 13.0, 87.0, 0.29055258467023165)\">0.197</th><th style=\"background:rgba(255.0, 13.0, 87.0, 0.10924935630817992)\">0.074</th><th style=\"background:rgba(255.0, 13.0, 87.0, 0.09348385818974037)\">0.068</th><th style=\"background:rgba(255.0, 13.0, 87.0, 0.06983561101208159)\">0.05</th><th style=\"background:rgba(255.0, 13.0, 87.0, 0.06983561101208159)\">0.052</th><th style=\"background:rgba(255.0, 13.0, 87.0, 0.06983561101208159)\">0.05</th><th style=\"background:rgba(255.0, 13.0, 87.0, 0.1171321053673995)\">0.079</th></tr><tr><th>▁be</th><th style=\"background:rgba(255.0, 13.0, 87.0, 0.02253911665676371)\">0.016</th><th style=\"background:rgba(255.0, 13.0, 87.0, 0.014656367597544035)\">0.014</th><th style=\"background:rgba(255.0, 13.0, 87.0, 0.014656367597544035)\">0.014</th><th style=\"background:rgba(255.0, 13.0, 87.0, 0.02253911665676371)\">0.016</th><th style=\"background:rgba(255.0, 13.0, 87.0, 0.030421865715983164)\">0.024</th><th style=\"background:rgba(255.0, 13.0, 87.0, 0.014656367597544035)\">0.012</th><th style=\"background:rgba(255.0, 13.0, 87.0, 0.014656367597544035)\">0.013</th><th style=\"background:rgba(255.0, 13.0, 87.0, 0.02253911665676371)\">0.016</th><th style=\"background:rgba(255.0, 13.0, 87.0, 0.014656367597544035)\">0.013</th><th style=\"background:rgba(255.0, 13.0, 87.0, 0.05407011289364243)\">0.04</th><th style=\"background:rgba(255.0, 13.0, 87.0, 0.03830461477520289)\">0.027</th><th style=\"background:rgba(255.0, 13.0, 87.0, 0.04618736383442265)\">0.032</th><th style=\"background:rgba(255.0, 13.0, 87.0, 0.23537334125569415)\">0.159</th><th style=\"background:rgba(255.0, 13.0, 87.0, 0.12501485442661908)\">0.089</th><th style=\"background:rgba(255.0, 13.0, 87.0, 0.1880768469003763)\">0.129</th><th style=\"background:rgba(255.0, 13.0, 87.0, 0.43244206773618543)\">0.293</th><th style=\"background:rgba(255.0, 13.0, 87.0, 0.10924935630817992)\">0.074</th><th style=\"background:rgba(255.0, 13.0, 87.0, 0.06983561101208159)\">0.049</th><th style=\"background:rgba(255.0, 13.0, 87.0, 0.06983561101208159)\">0.052</th><th style=\"background:rgba(255.0, 13.0, 87.0, 0.03830461477520289)\">0.029</th><th style=\"background:rgba(255.0, 13.0, 87.0, 0.05407011289364243)\">0.04</th></tr><tr><th>▁implemented</th><th style=\"background:rgba(255.0, 13.0, 87.0, 0.03830461477520289)\">0.03</th><th style=\"background:rgba(255.0, 13.0, 87.0, 0.06195286195286207)\">0.046</th><th style=\"background:rgba(255.0, 13.0, 87.0, 0.03830461477520289)\">0.029</th><th style=\"background:rgba(255.0, 13.0, 87.0, 0.04618736383442265)\">0.036</th><th style=\"background:rgba(255.0, 13.0, 87.0, 0.05407011289364243)\">0.039</th><th style=\"background:rgba(255.0, 13.0, 87.0, 0.030421865715983164)\">0.023</th><th style=\"background:rgba(255.0, 13.0, 87.0, 0.04618736383442265)\">0.032</th><th style=\"background:rgba(255.0, 13.0, 87.0, 0.07771836007130124)\">0.054</th><th style=\"background:rgba(255.0, 13.0, 87.0, 0.02253911665676371)\">0.016</th><th style=\"background:rgba(255.0, 13.0, 87.0, 0.06983561101208159)\">0.051</th><th style=\"background:rgba(255.0, 13.0, 87.0, 0.04618736383442265)\">0.035</th><th style=\"background:rgba(255.0, 13.0, 87.0, 0.08560110913052081)\">0.06</th><th style=\"background:rgba(255.0, 13.0, 87.0, 0.10136660724896006)\">0.073</th><th style=\"background:rgba(255.0, 13.0, 87.0, 0.08560110913052081)\">0.06</th><th style=\"background:rgba(255.0, 13.0, 87.0, 0.23537334125569415)\">0.158</th><th style=\"background:rgba(255.0, 13.0, 87.0, 0.4009110714993067)\">0.27</th><th style=\"background:rgba(255.0, 13.0, 87.0, 0.43244206773618543)\">0.29</th><th style=\"background:rgba(255.0, 13.0, 87.0, 0.49550406020994264)\">0.334</th><th style=\"background:rgba(255.0, 13.0, 87.0, 0.49550406020994264)\">0.333</th><th style=\"background:rgba(255.0, 13.0, 87.0, 0.08560110913052081)\">0.061</th><th style=\"background:rgba(255.0, 13.0, 87.0, 0.06983561101208159)\">0.051</th></tr><tr><th>.</th><th style=\"background:rgba(255.0, 13.0, 87.0, 0.014656367597544035)\">0.015</th><th style=\"background:rgba(255.0, 13.0, 87.0, 0.02253911665676371)\">0.019</th><th style=\"background:rgba(255.0, 13.0, 87.0, 0.03830461477520289)\">0.028</th><th style=\"background:rgba(255.0, 13.0, 87.0, 0.030421865715983164)\">0.022</th><th style=\"background:rgba(255.0, 13.0, 87.0, 0.06195286195286207)\">0.047</th><th style=\"background:rgba(255.0, 13.0, 87.0, 0.030421865715983164)\">0.023</th><th style=\"background:rgba(255.0, 13.0, 87.0, 0.02253911665676371)\">0.021</th><th style=\"background:rgba(255.0, 13.0, 87.0, 0.02253911665676371)\">0.021</th><th style=\"background:rgba(255.0, 13.0, 87.0, 0.04618736383442265)\">0.034</th><th style=\"background:rgba(255.0, 13.0, 87.0, 0.04618736383442265)\">0.033</th><th style=\"background:rgba(255.0, 13.0, 87.0, 0.02253911665676371)\">0.02</th><th style=\"background:rgba(255.0, 13.0, 87.0, 0.04618736383442265)\">0.032</th><th style=\"background:rgba(255.0, 13.0, 87.0, 0.04618736383442265)\">0.032</th><th style=\"background:rgba(255.0, 13.0, 87.0, 0.06195286195286207)\">0.047</th><th style=\"background:rgba(255.0, 13.0, 87.0, 0.10924935630817992)\">0.077</th><th style=\"background:rgba(255.0, 13.0, 87.0, 0.14866310160427795)\">0.102</th><th style=\"background:rgba(255.0, 13.0, 87.0, 0.06983561101208159)\">0.052</th><th style=\"background:rgba(255.0, 13.0, 87.0, 0.09348385818974037)\">0.066</th><th style=\"background:rgba(255.0, 13.0, 87.0, 0.15654585066349747)\">0.108</th><th style=\"background:rgba(255.0, 13.0, 87.0, 1.0)\">0.673</th><th style=\"background:rgba(255.0, 13.0, 87.0, 0.5979797979797981)\">0.405</th></tr><tr><th>&lt;/s&gt;</th><th style=\"background:rgba(230.2941176470614, 26.505882352939775, 102.59215686274348, 0.0)\">0.0</th><th style=\"background:rgba(230.2941176470614, 26.505882352939775, 102.59215686274348, 0.0)\">0.0</th><th style=\"background:rgba(230.2941176470614, 26.505882352939775, 102.59215686274348, 0.0)\">0.0</th><th style=\"background:rgba(230.2941176470614, 26.505882352939775, 102.59215686274348, 0.0)\">0.0</th><th style=\"background:rgba(230.2941176470614, 26.505882352939775, 102.59215686274348, 0.0)\">0.0</th><th style=\"background:rgba(230.2941176470614, 26.505882352939775, 102.59215686274348, 0.0)\">0.0</th><th style=\"background:rgba(230.2941176470614, 26.505882352939775, 102.59215686274348, 0.0)\">0.0</th><th style=\"background:rgba(230.2941176470614, 26.505882352939775, 102.59215686274348, 0.0)\">0.0</th><th style=\"background:rgba(230.2941176470614, 26.505882352939775, 102.59215686274348, 0.0)\">0.0</th><th style=\"background:rgba(230.2941176470614, 26.505882352939775, 102.59215686274348, 0.0)\">0.0</th><th style=\"background:rgba(230.2941176470614, 26.505882352939775, 102.59215686274348, 0.0)\">0.0</th><th style=\"background:rgba(230.2941176470614, 26.505882352939775, 102.59215686274348, 0.0)\">0.0</th><th style=\"background:rgba(230.2941176470614, 26.505882352939775, 102.59215686274348, 0.0)\">0.0</th><th style=\"background:rgba(230.2941176470614, 26.505882352939775, 102.59215686274348, 0.0)\">0.0</th><th style=\"background:rgba(230.2941176470614, 26.505882352939775, 102.59215686274348, 0.0)\">0.0</th><th style=\"background:rgba(230.2941176470614, 26.505882352939775, 102.59215686274348, 0.0)\">0.0</th><th style=\"background:rgba(230.2941176470614, 26.505882352939775, 102.59215686274348, 0.0)\">0.0</th><th style=\"background:rgba(230.2941176470614, 26.505882352939775, 102.59215686274348, 0.0)\">0.0</th><th style=\"background:rgba(230.2941176470614, 26.505882352939775, 102.59215686274348, 0.0)\">0.0</th><th style=\"background:rgba(230.2941176470614, 26.505882352939775, 102.59215686274348, 0.0)\">0.0</th><th style=\"background:rgba(230.2941176470614, 26.505882352939775, 102.59215686274348, 0.0)\">0.0</th></tr></table>\n",
       "</div>\n",
       "\n",
       "        </div>\n",
       "    </div>\n",
       "</div>\n",
       "</html>\n"
      ],
      "text/plain": [
       "<IPython.core.display.HTML object>"
      ]
     },
     "metadata": {},
     "output_type": "display_data"
    }
   ],
   "source": [
    "out = model.attribute(\n",
    "  \"The developer argued with the designer because her idea cannot be implemented.\",\n",
    "  n_steps=10\n",
    ")\n",
    "out.show()"
   ]
  },
  {
   "cell_type": "markdown",
   "metadata": {},
   "source": [
    "... inseq was meant only for seq2seq models, not for classification models (ferret is the recommended alternative)"
   ]
  }
 ],
 "metadata": {
  "kernelspec": {
   "display_name": "venv",
   "language": "python",
   "name": "python3"
  },
  "language_info": {
   "codemirror_mode": {
    "name": "ipython",
    "version": 3
   },
   "file_extension": ".py",
   "mimetype": "text/x-python",
   "name": "python",
   "nbconvert_exporter": "python",
   "pygments_lexer": "ipython3",
   "version": "3.11.9"
  }
 },
 "nbformat": 4,
 "nbformat_minor": 2
}
