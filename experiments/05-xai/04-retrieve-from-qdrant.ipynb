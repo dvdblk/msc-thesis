{
 "cells": [
  {
   "cell_type": "markdown",
   "metadata": {},
   "source": [
    "%run ../ipynb_util_tars.py"
   ]
  },
  {
   "cell_type": "code",
   "execution_count": 1,
   "metadata": {},
   "outputs": [
    {
     "name": "stderr",
     "output_type": "stream",
     "text": [
      "/home/user/dbielik/msc-thesis/venv/lib/python3.11/site-packages/qdrant_client/qdrant_remote.py:130: UserWarning: Api key is used with an insecure connection.\n",
      "  warnings.warn(\"Api key is used with an insecure connection.\")\n"
     ]
    }
   ],
   "source": [
    "import os\n",
    "\n",
    "from qdrant_client import QdrantClient, models\n",
    "\n",
    "client = QdrantClient(\n",
    "    os.getenv(\"QDRANT_API_URL\"),\n",
    "    port=os.getenv(\"QDRANT_API_PORT\"),\n",
    "    api_key=os.getenv(\"QDRANT_API_KEY\"),\n",
    ")"
   ]
  },
  {
   "cell_type": "code",
   "execution_count": 20,
   "metadata": {},
   "outputs": [
    {
     "name": "stdout",
     "output_type": "stream",
     "text": [
      "384\n",
      "oai:www.zora.uzh.ch:125412\n",
      "oai:www.zora.uzh.ch:125412\n",
      "oai:www.zora.uzh.ch:143565\n",
      "oai:www.zora.uzh.ch:148179\n",
      "oai:www.zora.uzh.ch:148179\n",
      "oai:www.zora.uzh.ch:151857\n",
      "\n",
      "oai:www.zora.uzh.ch:87341\n",
      "{'sdg12': {'ts': 1703092276, 'user': 'expert', 'val': 1}}\n",
      "16\n",
      "[[0.007794328965246677, 0.007933328859508038, 0.011707817204296587, 0.003974159713834524, 0.015394791960716248, 0.00841787550598383, 0.00809470098465681, 0.030228832736611366, 0.02986086718738079, 0.1111711859703064, 0.02253444492816925, 0.05184902995824814, 0.020818442106246948, 0.012820121832191944, 0.016828157007694244, 0.5926969647407532, 0.04787500575184822]]\n",
      "Transnational governance schemes (TGSs) are interorganizational networks of public and/or private actors that jointly regulate global public policy issues, such as the prevention of human rights violations and the protection of ecosystems. Considering that TGSs mainly address issues of public concern, the general public represents a major source of legitimacy in transnational governance. We theorize how members of the general public, whom we conceptualize as intuiters, apply heuristics to bestow legitimacy on TGSs. Given the difficulty of assessing TGSs, we argue that intuiters draw on affect-based responses towards a TGS's better-known network affiliates, such as participating business firms, to judge the legitimacy of the TGS as a whole. This substitution produces a “vertical” legitimacy spillover. More specifically, we examine the heuristic process of judgment underlying vertical spillovers in TGSs and derive implications for the legitimacy construct and the analysis of spillover phenomena.\n"
     ]
    }
   ],
   "source": [
    "# scroll over points that HAVE labels (\"labels\" field is not null)\n",
    "scroll_result = client.scroll(\n",
    "    collection_name=\"publications\",\n",
    "    limit=500,\n",
    "    with_payload=[\"id\", \"labels\", \"xai\", \"description\"],\n",
    "    scroll_filter=models.Filter(\n",
    "        must_not=[\n",
    "            models.IsNullCondition(\n",
    "                is_null=models.PayloadField(key=\"labels\")\n",
    "            )\n",
    "        ]\n",
    "    )\n",
    ")\n",
    "print(len(scroll_result[0]))\n",
    "\n",
    "for point in scroll_result[0]:\n",
    "    if len(point.payload[\"xai\"]) != 1:\n",
    "        print(\"huh\", point.payload[\"id\"])\n",
    "\n",
    "    shap_values = point.payload[\"xai\"][0][\"xai_values\"][\"token_scores\"]\n",
    "    # check if each value is in the range [-1, 1]\n",
    "    # the shap_values are of size [len(tokens), 17]\n",
    "    for token_scores in shap_values:\n",
    "        for score in token_scores:\n",
    "            if score < -0.1 or score > 0.1:\n",
    "                print(point.payload[\"id\"])\n",
    "                break\n",
    "\n",
    "print()\n",
    "res = scroll_result[0][5]\n",
    "print(res.payload[\"id\"])\n",
    "print(res.payload[\"labels\"])\n",
    "print(res.payload[\"xai\"][0][\"predicted_label\"])\n",
    "print(res.payload[\"xai\"][0][\"probs\"])\n",
    "print(res.payload[\"description\"])"
   ]
  },
  {
   "cell_type": "code",
   "execution_count": null,
   "metadata": {},
   "outputs": [],
   "source": [
    "xai_out_dict = []\n",
    "\n",
    "for point in scroll_result[0]:\n",
    "    xai_out_dict.append(\n",
    "        {\n",
    "            \"id\": point.payload[\"id\"],\n",
    "            \"xai\": point.payload[\"xai\"],\n",
    "        }\n",
    "    )"
   ]
  },
  {
   "cell_type": "code",
   "execution_count": null,
   "metadata": {},
   "outputs": [],
   "source": [
    "# save xai_out_dict on disk as json\n",
    "# import json\n",
    "\n",
    "# with open(\"xai_out_dict.json\", \"w\") as f:\n",
    "#    json.dump(xai_out_dict, f)\n"
   ]
  },
  {
   "cell_type": "code",
   "execution_count": 3,
   "metadata": {},
   "outputs": [
    {
     "name": "stdout",
     "output_type": "stream",
     "text": [
      "count=384\n",
      "{'sdg1': 6, 'sdg2': 13, 'sdg3': 43, 'sdg4': 2, 'sdg5': 22, 'sdg6': 3, 'sdg7': 17, 'sdg8': 26, 'sdg9': 13, 'sdg10': 31, 'sdg11': 3, 'sdg12': 30, 'sdg13': 41, 'sdg14': 14, 'sdg15': 79, 'sdg16': 34, 'sdg17': 7}\n",
      "384\n"
     ]
    }
   ],
   "source": [
    "points_with_labels_count = client.count(\n",
    "    collection_name=\"publications\",\n",
    "    count_filter=models.Filter(\n",
    "        must_not=[\n",
    "            models.IsNullCondition(\n",
    "                is_null=models.PayloadField(key=\"labels\")\n",
    "            )\n",
    "        ]\n",
    "    ),\n",
    "    exact=True\n",
    ")\n",
    "print(points_with_labels_count)\n",
    "\n",
    "sdgs = [f\"sdg{i}\" for i in range(1, 18)]\n",
    "sdg_counts = {}\n",
    "\n",
    "for sdg in sdgs:\n",
    "    result = client.count(\n",
    "        collection_name=\"publications\",\n",
    "        count_filter=models.Filter(\n",
    "            must_not=[\n",
    "                models.IsEmptyCondition(\n",
    "                    is_empty=models.PayloadField(key=f\"labels.{sdg}\")\n",
    "                )\n",
    "            ]\n",
    "        ),\n",
    "        exact=True\n",
    "    )\n",
    "    sdg_counts[sdg] = result.count\n",
    "\n",
    "print(sdg_counts)\n",
    "print(sum(sdg_counts.values()))"
   ]
  },
  {
   "cell_type": "code",
   "execution_count": null,
   "metadata": {},
   "outputs": [],
   "source": [
    "assert sum(sdg_counts.values()) == points_with_labels_count.count"
   ]
  },
  {
   "cell_type": "code",
   "execution_count": null,
   "metadata": {},
   "outputs": [
    {
     "data": {
      "text/plain": [
       "CountResult(count=384)"
      ]
     },
     "execution_count": 5,
     "metadata": {},
     "output_type": "execute_result"
    }
   ],
   "source": [
    "client.count(\n",
    "    collection_name=\"publications\",\n",
    "    count_filter=models.Filter(\n",
    "        must_not=[\n",
    "            models.IsEmptyCondition(\n",
    "                is_empty=models.PayloadField(key=f\"xai\")\n",
    "            )\n",
    "        ]\n",
    "    ),\n",
    "    exact=True\n",
    ")"
   ]
  },
  {
   "cell_type": "code",
   "execution_count": null,
   "metadata": {},
   "outputs": [],
   "source": []
  }
 ],
 "metadata": {
  "kernelspec": {
   "display_name": "venv",
   "language": "python",
   "name": "python3"
  },
  "language_info": {
   "codemirror_mode": {
    "name": "ipython",
    "version": 3
   },
   "file_extension": ".py",
   "mimetype": "text/x-python",
   "name": "python",
   "nbconvert_exporter": "python",
   "pygments_lexer": "ipython3",
   "version": "3.11.8"
  }
 },
 "nbformat": 4,
 "nbformat_minor": 2
}
