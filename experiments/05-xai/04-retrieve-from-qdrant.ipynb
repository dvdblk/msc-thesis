{
 "cells": [
  {
   "cell_type": "markdown",
   "metadata": {},
   "source": [
    "%run ../ipynb_util_tars.py"
   ]
  },
  {
   "cell_type": "code",
   "execution_count": 9,
   "metadata": {},
   "outputs": [
    {
     "name": "stderr",
     "output_type": "stream",
     "text": [
      "/home/user/dbielik/msc-thesis/venv/lib/python3.11/site-packages/qdrant_client/qdrant_remote.py:130: UserWarning: Api key is used with an insecure connection.\n",
      "  warnings.warn(\"Api key is used with an insecure connection.\")\n"
     ]
    }
   ],
   "source": [
    "import os\n",
    "\n",
    "from qdrant_client import QdrantClient, models\n",
    "\n",
    "client = QdrantClient(\n",
    "    os.getenv(\"QDRANT_API_URL\"),\n",
    "    port=os.getenv(\"QDRANT_API_PORT\"),\n",
    "    api_key=os.getenv(\"QDRANT_API_KEY\"),\n",
    ")"
   ]
  },
  {
   "cell_type": "code",
   "execution_count": 11,
   "metadata": {},
   "outputs": [
    {
     "ename": "AttributeError",
     "evalue": "module 'qdrant_client.models' has no attribute 'AnyVariant'",
     "output_type": "error",
     "traceback": [
      "\u001b[0;31m---------------------------------------------------------------------------\u001b[0m",
      "\u001b[0;31mAttributeError\u001b[0m                            Traceback (most recent call last)",
      "Cell \u001b[0;32mIn[11], line 8\u001b[0m\n\u001b[1;32m      1\u001b[0m scroll_result \u001b[38;5;241m=\u001b[39m client\u001b[38;5;241m.\u001b[39mscroll(\n\u001b[1;32m      2\u001b[0m     collection_name\u001b[38;5;241m=\u001b[39m\u001b[38;5;124m\"\u001b[39m\u001b[38;5;124mpublications\u001b[39m\u001b[38;5;124m\"\u001b[39m,\n\u001b[1;32m      3\u001b[0m     limit\u001b[38;5;241m=\u001b[39m\u001b[38;5;241m1\u001b[39m,  \u001b[38;5;66;03m# Adjust this value as needed\u001b[39;00m\n\u001b[1;32m      4\u001b[0m     scroll_filter\u001b[38;5;241m=\u001b[39mmodels\u001b[38;5;241m.\u001b[39mFilter(\n\u001b[1;32m      5\u001b[0m         must\u001b[38;5;241m=\u001b[39m[\n\u001b[1;32m      6\u001b[0m             models\u001b[38;5;241m.\u001b[39mFieldCondition(\n\u001b[1;32m      7\u001b[0m                 key\u001b[38;5;241m=\u001b[39m\u001b[38;5;124m\"\u001b[39m\u001b[38;5;124mxai\u001b[39m\u001b[38;5;124m\"\u001b[39m,\n\u001b[0;32m----> 8\u001b[0m                 match\u001b[38;5;241m=\u001b[39mmodels\u001b[38;5;241m.\u001b[39mMatchValue(value\u001b[38;5;241m=\u001b[39m\u001b[43mmodels\u001b[49m\u001b[38;5;241;43m.\u001b[39;49m\u001b[43mAnyVariant\u001b[49m())\n\u001b[1;32m      9\u001b[0m             )\n\u001b[1;32m     10\u001b[0m         ]\n\u001b[1;32m     11\u001b[0m     )\n\u001b[1;32m     12\u001b[0m )\n\u001b[1;32m     14\u001b[0m \u001b[38;5;28;01mfor\u001b[39;00m point \u001b[38;5;129;01min\u001b[39;00m scroll_result\u001b[38;5;241m.\u001b[39mresult:\n\u001b[1;32m     15\u001b[0m     \u001b[38;5;28mprint\u001b[39m(point)\n",
      "\u001b[0;31mAttributeError\u001b[0m: module 'qdrant_client.models' has no attribute 'AnyVariant'"
     ]
    }
   ],
   "source": [
    "scroll_result = client.scroll(\n",
    "    collection_name=\"publications\",\n",
    "    limit=1,  # Adjust this value as needed\n",
    "    scroll_filter=models.Filter(\n",
    "        must=[\n",
    "            models.FieldCondition(\n",
    "                key=\"xai\",\n",
    "                match=models.MatchValue(value=models.AnyVariant())\n",
    "            )\n",
    "        ]\n",
    "    )\n",
    ")\n",
    "\n",
    "for point in scroll_result.result:\n",
    "    print(point)"
   ]
  },
  {
   "cell_type": "code",
   "execution_count": null,
   "metadata": {},
   "outputs": [],
   "source": []
  }
 ],
 "metadata": {
  "kernelspec": {
   "display_name": "venv",
   "language": "python",
   "name": "python3"
  },
  "language_info": {
   "codemirror_mode": {
    "name": "ipython",
    "version": 3
   },
   "file_extension": ".py",
   "mimetype": "text/x-python",
   "name": "python",
   "nbconvert_exporter": "python",
   "pygments_lexer": "ipython3",
   "version": "3.11.8"
  }
 },
 "nbformat": 4,
 "nbformat_minor": 2
}
